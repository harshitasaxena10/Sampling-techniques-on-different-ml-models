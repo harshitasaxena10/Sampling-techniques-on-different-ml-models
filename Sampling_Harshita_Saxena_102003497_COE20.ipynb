{
  "nbformat": 4,
  "nbformat_minor": 0,
  "metadata": {
    "colab": {
      "provenance": []
    },
    "kernelspec": {
      "name": "python3",
      "display_name": "Python 3"
    },
    "language_info": {
      "name": "python"
    }
  },
  "cells": [
    {
      "cell_type": "markdown",
      "source": [
        "# HARSHITA SAXENA\n",
        "## ROLL NO: 102003497\n",
        "## BATCH- 3COE-20"
      ],
      "metadata": {
        "id": "XEPpgMaRx_qs"
      }
    },
    {
      "cell_type": "markdown",
      "source": [
        "Loading of Dataset"
      ],
      "metadata": {
        "id": "txx2RJPQyS0e"
      }
    },
    {
      "cell_type": "code",
      "execution_count": 1,
      "metadata": {
        "id": "DrcmPM3sTD7g"
      },
      "outputs": [],
      "source": [
        "import pandas as pd\n",
        "import numpy as np"
      ]
    },
    {
      "cell_type": "code",
      "source": [
        "from google.colab import files\n",
        "uploaded= files.upload()"
      ],
      "metadata": {
        "colab": {
          "base_uri": "https://localhost:8080/",
          "height": 73
        },
        "id": "31SzhOBHTisg",
        "outputId": "14120ed8-7868-4a86-a3e4-439a3328453f"
      },
      "execution_count": 2,
      "outputs": [
        {
          "output_type": "display_data",
          "data": {
            "text/plain": [
              "<IPython.core.display.HTML object>"
            ],
            "text/html": [
              "\n",
              "     <input type=\"file\" id=\"files-f53b72b4-7837-4c44-ba7d-18f8e9ea2a71\" name=\"files[]\" multiple disabled\n",
              "        style=\"border:none\" />\n",
              "     <output id=\"result-f53b72b4-7837-4c44-ba7d-18f8e9ea2a71\">\n",
              "      Upload widget is only available when the cell has been executed in the\n",
              "      current browser session. Please rerun this cell to enable.\n",
              "      </output>\n",
              "      <script>// Copyright 2017 Google LLC\n",
              "//\n",
              "// Licensed under the Apache License, Version 2.0 (the \"License\");\n",
              "// you may not use this file except in compliance with the License.\n",
              "// You may obtain a copy of the License at\n",
              "//\n",
              "//      http://www.apache.org/licenses/LICENSE-2.0\n",
              "//\n",
              "// Unless required by applicable law or agreed to in writing, software\n",
              "// distributed under the License is distributed on an \"AS IS\" BASIS,\n",
              "// WITHOUT WARRANTIES OR CONDITIONS OF ANY KIND, either express or implied.\n",
              "// See the License for the specific language governing permissions and\n",
              "// limitations under the License.\n",
              "\n",
              "/**\n",
              " * @fileoverview Helpers for google.colab Python module.\n",
              " */\n",
              "(function(scope) {\n",
              "function span(text, styleAttributes = {}) {\n",
              "  const element = document.createElement('span');\n",
              "  element.textContent = text;\n",
              "  for (const key of Object.keys(styleAttributes)) {\n",
              "    element.style[key] = styleAttributes[key];\n",
              "  }\n",
              "  return element;\n",
              "}\n",
              "\n",
              "// Max number of bytes which will be uploaded at a time.\n",
              "const MAX_PAYLOAD_SIZE = 100 * 1024;\n",
              "\n",
              "function _uploadFiles(inputId, outputId) {\n",
              "  const steps = uploadFilesStep(inputId, outputId);\n",
              "  const outputElement = document.getElementById(outputId);\n",
              "  // Cache steps on the outputElement to make it available for the next call\n",
              "  // to uploadFilesContinue from Python.\n",
              "  outputElement.steps = steps;\n",
              "\n",
              "  return _uploadFilesContinue(outputId);\n",
              "}\n",
              "\n",
              "// This is roughly an async generator (not supported in the browser yet),\n",
              "// where there are multiple asynchronous steps and the Python side is going\n",
              "// to poll for completion of each step.\n",
              "// This uses a Promise to block the python side on completion of each step,\n",
              "// then passes the result of the previous step as the input to the next step.\n",
              "function _uploadFilesContinue(outputId) {\n",
              "  const outputElement = document.getElementById(outputId);\n",
              "  const steps = outputElement.steps;\n",
              "\n",
              "  const next = steps.next(outputElement.lastPromiseValue);\n",
              "  return Promise.resolve(next.value.promise).then((value) => {\n",
              "    // Cache the last promise value to make it available to the next\n",
              "    // step of the generator.\n",
              "    outputElement.lastPromiseValue = value;\n",
              "    return next.value.response;\n",
              "  });\n",
              "}\n",
              "\n",
              "/**\n",
              " * Generator function which is called between each async step of the upload\n",
              " * process.\n",
              " * @param {string} inputId Element ID of the input file picker element.\n",
              " * @param {string} outputId Element ID of the output display.\n",
              " * @return {!Iterable<!Object>} Iterable of next steps.\n",
              " */\n",
              "function* uploadFilesStep(inputId, outputId) {\n",
              "  const inputElement = document.getElementById(inputId);\n",
              "  inputElement.disabled = false;\n",
              "\n",
              "  const outputElement = document.getElementById(outputId);\n",
              "  outputElement.innerHTML = '';\n",
              "\n",
              "  const pickedPromise = new Promise((resolve) => {\n",
              "    inputElement.addEventListener('change', (e) => {\n",
              "      resolve(e.target.files);\n",
              "    });\n",
              "  });\n",
              "\n",
              "  const cancel = document.createElement('button');\n",
              "  inputElement.parentElement.appendChild(cancel);\n",
              "  cancel.textContent = 'Cancel upload';\n",
              "  const cancelPromise = new Promise((resolve) => {\n",
              "    cancel.onclick = () => {\n",
              "      resolve(null);\n",
              "    };\n",
              "  });\n",
              "\n",
              "  // Wait for the user to pick the files.\n",
              "  const files = yield {\n",
              "    promise: Promise.race([pickedPromise, cancelPromise]),\n",
              "    response: {\n",
              "      action: 'starting',\n",
              "    }\n",
              "  };\n",
              "\n",
              "  cancel.remove();\n",
              "\n",
              "  // Disable the input element since further picks are not allowed.\n",
              "  inputElement.disabled = true;\n",
              "\n",
              "  if (!files) {\n",
              "    return {\n",
              "      response: {\n",
              "        action: 'complete',\n",
              "      }\n",
              "    };\n",
              "  }\n",
              "\n",
              "  for (const file of files) {\n",
              "    const li = document.createElement('li');\n",
              "    li.append(span(file.name, {fontWeight: 'bold'}));\n",
              "    li.append(span(\n",
              "        `(${file.type || 'n/a'}) - ${file.size} bytes, ` +\n",
              "        `last modified: ${\n",
              "            file.lastModifiedDate ? file.lastModifiedDate.toLocaleDateString() :\n",
              "                                    'n/a'} - `));\n",
              "    const percent = span('0% done');\n",
              "    li.appendChild(percent);\n",
              "\n",
              "    outputElement.appendChild(li);\n",
              "\n",
              "    const fileDataPromise = new Promise((resolve) => {\n",
              "      const reader = new FileReader();\n",
              "      reader.onload = (e) => {\n",
              "        resolve(e.target.result);\n",
              "      };\n",
              "      reader.readAsArrayBuffer(file);\n",
              "    });\n",
              "    // Wait for the data to be ready.\n",
              "    let fileData = yield {\n",
              "      promise: fileDataPromise,\n",
              "      response: {\n",
              "        action: 'continue',\n",
              "      }\n",
              "    };\n",
              "\n",
              "    // Use a chunked sending to avoid message size limits. See b/62115660.\n",
              "    let position = 0;\n",
              "    do {\n",
              "      const length = Math.min(fileData.byteLength - position, MAX_PAYLOAD_SIZE);\n",
              "      const chunk = new Uint8Array(fileData, position, length);\n",
              "      position += length;\n",
              "\n",
              "      const base64 = btoa(String.fromCharCode.apply(null, chunk));\n",
              "      yield {\n",
              "        response: {\n",
              "          action: 'append',\n",
              "          file: file.name,\n",
              "          data: base64,\n",
              "        },\n",
              "      };\n",
              "\n",
              "      let percentDone = fileData.byteLength === 0 ?\n",
              "          100 :\n",
              "          Math.round((position / fileData.byteLength) * 100);\n",
              "      percent.textContent = `${percentDone}% done`;\n",
              "\n",
              "    } while (position < fileData.byteLength);\n",
              "  }\n",
              "\n",
              "  // All done.\n",
              "  yield {\n",
              "    response: {\n",
              "      action: 'complete',\n",
              "    }\n",
              "  };\n",
              "}\n",
              "\n",
              "scope.google = scope.google || {};\n",
              "scope.google.colab = scope.google.colab || {};\n",
              "scope.google.colab._files = {\n",
              "  _uploadFiles,\n",
              "  _uploadFilesContinue,\n",
              "};\n",
              "})(self);\n",
              "</script> "
            ]
          },
          "metadata": {}
        },
        {
          "output_type": "stream",
          "name": "stdout",
          "text": [
            "Saving Creditcard_data.csv to Creditcard_data.csv\n"
          ]
        }
      ]
    },
    {
      "cell_type": "code",
      "source": [
        "df=pd.read_csv('Creditcard_data.csv')"
      ],
      "metadata": {
        "id": "L5MwGHdoTwBt"
      },
      "execution_count": 3,
      "outputs": []
    },
    {
      "cell_type": "code",
      "source": [
        "df.head()"
      ],
      "metadata": {
        "colab": {
          "base_uri": "https://localhost:8080/",
          "height": 299
        },
        "id": "l5qTuHOkT5Kb",
        "outputId": "e980a8e4-c858-438e-ba7e-29646b350d3f"
      },
      "execution_count": 4,
      "outputs": [
        {
          "output_type": "execute_result",
          "data": {
            "text/plain": [
              "   Time        V1        V2        V3        V4        V5        V6        V7  \\\n",
              "0     0 -1.359807 -0.072781  2.536347  1.378155 -0.338321  0.462388  0.239599   \n",
              "1     0  1.191857  0.266151  0.166480  0.448154  0.060018 -0.082361 -0.078803   \n",
              "2     1 -1.358354 -1.340163  1.773209  0.379780 -0.503198  1.800499  0.791461   \n",
              "3     1 -0.966272 -0.185226  1.792993 -0.863291 -0.010309  1.247203  0.237609   \n",
              "4     2 -1.158233  0.877737  1.548718  0.403034 -0.407193  0.095921  0.592941   \n",
              "\n",
              "         V8        V9  ...       V21       V22       V23       V24       V25  \\\n",
              "0  0.098698  0.363787  ... -0.018307  0.277838 -0.110474  0.066928  0.128539   \n",
              "1  0.085102 -0.255425  ... -0.225775 -0.638672  0.101288 -0.339846  0.167170   \n",
              "2  0.247676 -1.514654  ...  0.247998  0.771679  0.909412 -0.689281 -0.327642   \n",
              "3  0.377436 -1.387024  ... -0.108300  0.005274 -0.190321 -1.175575  0.647376   \n",
              "4 -0.270533  0.817739  ... -0.009431  0.798278 -0.137458  0.141267 -0.206010   \n",
              "\n",
              "        V26       V27       V28  Amount  Class  \n",
              "0 -0.189115  0.133558 -0.021053  149.62      0  \n",
              "1  0.125895 -0.008983  0.014724    2.69      1  \n",
              "2 -0.139097 -0.055353 -0.059752  378.66      0  \n",
              "3 -0.221929  0.062723  0.061458  123.50      0  \n",
              "4  0.502292  0.219422  0.215153   69.99      0  \n",
              "\n",
              "[5 rows x 31 columns]"
            ],
            "text/html": [
              "\n",
              "  <div id=\"df-6b8a9782-cff5-48bc-a388-5717bac7efd7\">\n",
              "    <div class=\"colab-df-container\">\n",
              "      <div>\n",
              "<style scoped>\n",
              "    .dataframe tbody tr th:only-of-type {\n",
              "        vertical-align: middle;\n",
              "    }\n",
              "\n",
              "    .dataframe tbody tr th {\n",
              "        vertical-align: top;\n",
              "    }\n",
              "\n",
              "    .dataframe thead th {\n",
              "        text-align: right;\n",
              "    }\n",
              "</style>\n",
              "<table border=\"1\" class=\"dataframe\">\n",
              "  <thead>\n",
              "    <tr style=\"text-align: right;\">\n",
              "      <th></th>\n",
              "      <th>Time</th>\n",
              "      <th>V1</th>\n",
              "      <th>V2</th>\n",
              "      <th>V3</th>\n",
              "      <th>V4</th>\n",
              "      <th>V5</th>\n",
              "      <th>V6</th>\n",
              "      <th>V7</th>\n",
              "      <th>V8</th>\n",
              "      <th>V9</th>\n",
              "      <th>...</th>\n",
              "      <th>V21</th>\n",
              "      <th>V22</th>\n",
              "      <th>V23</th>\n",
              "      <th>V24</th>\n",
              "      <th>V25</th>\n",
              "      <th>V26</th>\n",
              "      <th>V27</th>\n",
              "      <th>V28</th>\n",
              "      <th>Amount</th>\n",
              "      <th>Class</th>\n",
              "    </tr>\n",
              "  </thead>\n",
              "  <tbody>\n",
              "    <tr>\n",
              "      <th>0</th>\n",
              "      <td>0</td>\n",
              "      <td>-1.359807</td>\n",
              "      <td>-0.072781</td>\n",
              "      <td>2.536347</td>\n",
              "      <td>1.378155</td>\n",
              "      <td>-0.338321</td>\n",
              "      <td>0.462388</td>\n",
              "      <td>0.239599</td>\n",
              "      <td>0.098698</td>\n",
              "      <td>0.363787</td>\n",
              "      <td>...</td>\n",
              "      <td>-0.018307</td>\n",
              "      <td>0.277838</td>\n",
              "      <td>-0.110474</td>\n",
              "      <td>0.066928</td>\n",
              "      <td>0.128539</td>\n",
              "      <td>-0.189115</td>\n",
              "      <td>0.133558</td>\n",
              "      <td>-0.021053</td>\n",
              "      <td>149.62</td>\n",
              "      <td>0</td>\n",
              "    </tr>\n",
              "    <tr>\n",
              "      <th>1</th>\n",
              "      <td>0</td>\n",
              "      <td>1.191857</td>\n",
              "      <td>0.266151</td>\n",
              "      <td>0.166480</td>\n",
              "      <td>0.448154</td>\n",
              "      <td>0.060018</td>\n",
              "      <td>-0.082361</td>\n",
              "      <td>-0.078803</td>\n",
              "      <td>0.085102</td>\n",
              "      <td>-0.255425</td>\n",
              "      <td>...</td>\n",
              "      <td>-0.225775</td>\n",
              "      <td>-0.638672</td>\n",
              "      <td>0.101288</td>\n",
              "      <td>-0.339846</td>\n",
              "      <td>0.167170</td>\n",
              "      <td>0.125895</td>\n",
              "      <td>-0.008983</td>\n",
              "      <td>0.014724</td>\n",
              "      <td>2.69</td>\n",
              "      <td>1</td>\n",
              "    </tr>\n",
              "    <tr>\n",
              "      <th>2</th>\n",
              "      <td>1</td>\n",
              "      <td>-1.358354</td>\n",
              "      <td>-1.340163</td>\n",
              "      <td>1.773209</td>\n",
              "      <td>0.379780</td>\n",
              "      <td>-0.503198</td>\n",
              "      <td>1.800499</td>\n",
              "      <td>0.791461</td>\n",
              "      <td>0.247676</td>\n",
              "      <td>-1.514654</td>\n",
              "      <td>...</td>\n",
              "      <td>0.247998</td>\n",
              "      <td>0.771679</td>\n",
              "      <td>0.909412</td>\n",
              "      <td>-0.689281</td>\n",
              "      <td>-0.327642</td>\n",
              "      <td>-0.139097</td>\n",
              "      <td>-0.055353</td>\n",
              "      <td>-0.059752</td>\n",
              "      <td>378.66</td>\n",
              "      <td>0</td>\n",
              "    </tr>\n",
              "    <tr>\n",
              "      <th>3</th>\n",
              "      <td>1</td>\n",
              "      <td>-0.966272</td>\n",
              "      <td>-0.185226</td>\n",
              "      <td>1.792993</td>\n",
              "      <td>-0.863291</td>\n",
              "      <td>-0.010309</td>\n",
              "      <td>1.247203</td>\n",
              "      <td>0.237609</td>\n",
              "      <td>0.377436</td>\n",
              "      <td>-1.387024</td>\n",
              "      <td>...</td>\n",
              "      <td>-0.108300</td>\n",
              "      <td>0.005274</td>\n",
              "      <td>-0.190321</td>\n",
              "      <td>-1.175575</td>\n",
              "      <td>0.647376</td>\n",
              "      <td>-0.221929</td>\n",
              "      <td>0.062723</td>\n",
              "      <td>0.061458</td>\n",
              "      <td>123.50</td>\n",
              "      <td>0</td>\n",
              "    </tr>\n",
              "    <tr>\n",
              "      <th>4</th>\n",
              "      <td>2</td>\n",
              "      <td>-1.158233</td>\n",
              "      <td>0.877737</td>\n",
              "      <td>1.548718</td>\n",
              "      <td>0.403034</td>\n",
              "      <td>-0.407193</td>\n",
              "      <td>0.095921</td>\n",
              "      <td>0.592941</td>\n",
              "      <td>-0.270533</td>\n",
              "      <td>0.817739</td>\n",
              "      <td>...</td>\n",
              "      <td>-0.009431</td>\n",
              "      <td>0.798278</td>\n",
              "      <td>-0.137458</td>\n",
              "      <td>0.141267</td>\n",
              "      <td>-0.206010</td>\n",
              "      <td>0.502292</td>\n",
              "      <td>0.219422</td>\n",
              "      <td>0.215153</td>\n",
              "      <td>69.99</td>\n",
              "      <td>0</td>\n",
              "    </tr>\n",
              "  </tbody>\n",
              "</table>\n",
              "<p>5 rows × 31 columns</p>\n",
              "</div>\n",
              "      <button class=\"colab-df-convert\" onclick=\"convertToInteractive('df-6b8a9782-cff5-48bc-a388-5717bac7efd7')\"\n",
              "              title=\"Convert this dataframe to an interactive table.\"\n",
              "              style=\"display:none;\">\n",
              "        \n",
              "  <svg xmlns=\"http://www.w3.org/2000/svg\" height=\"24px\"viewBox=\"0 0 24 24\"\n",
              "       width=\"24px\">\n",
              "    <path d=\"M0 0h24v24H0V0z\" fill=\"none\"/>\n",
              "    <path d=\"M18.56 5.44l.94 2.06.94-2.06 2.06-.94-2.06-.94-.94-2.06-.94 2.06-2.06.94zm-11 1L8.5 8.5l.94-2.06 2.06-.94-2.06-.94L8.5 2.5l-.94 2.06-2.06.94zm10 10l.94 2.06.94-2.06 2.06-.94-2.06-.94-.94-2.06-.94 2.06-2.06.94z\"/><path d=\"M17.41 7.96l-1.37-1.37c-.4-.4-.92-.59-1.43-.59-.52 0-1.04.2-1.43.59L10.3 9.45l-7.72 7.72c-.78.78-.78 2.05 0 2.83L4 21.41c.39.39.9.59 1.41.59.51 0 1.02-.2 1.41-.59l7.78-7.78 2.81-2.81c.8-.78.8-2.07 0-2.86zM5.41 20L4 18.59l7.72-7.72 1.47 1.35L5.41 20z\"/>\n",
              "  </svg>\n",
              "      </button>\n",
              "      \n",
              "  <style>\n",
              "    .colab-df-container {\n",
              "      display:flex;\n",
              "      flex-wrap:wrap;\n",
              "      gap: 12px;\n",
              "    }\n",
              "\n",
              "    .colab-df-convert {\n",
              "      background-color: #E8F0FE;\n",
              "      border: none;\n",
              "      border-radius: 50%;\n",
              "      cursor: pointer;\n",
              "      display: none;\n",
              "      fill: #1967D2;\n",
              "      height: 32px;\n",
              "      padding: 0 0 0 0;\n",
              "      width: 32px;\n",
              "    }\n",
              "\n",
              "    .colab-df-convert:hover {\n",
              "      background-color: #E2EBFA;\n",
              "      box-shadow: 0px 1px 2px rgba(60, 64, 67, 0.3), 0px 1px 3px 1px rgba(60, 64, 67, 0.15);\n",
              "      fill: #174EA6;\n",
              "    }\n",
              "\n",
              "    [theme=dark] .colab-df-convert {\n",
              "      background-color: #3B4455;\n",
              "      fill: #D2E3FC;\n",
              "    }\n",
              "\n",
              "    [theme=dark] .colab-df-convert:hover {\n",
              "      background-color: #434B5C;\n",
              "      box-shadow: 0px 1px 3px 1px rgba(0, 0, 0, 0.15);\n",
              "      filter: drop-shadow(0px 1px 2px rgba(0, 0, 0, 0.3));\n",
              "      fill: #FFFFFF;\n",
              "    }\n",
              "  </style>\n",
              "\n",
              "      <script>\n",
              "        const buttonEl =\n",
              "          document.querySelector('#df-6b8a9782-cff5-48bc-a388-5717bac7efd7 button.colab-df-convert');\n",
              "        buttonEl.style.display =\n",
              "          google.colab.kernel.accessAllowed ? 'block' : 'none';\n",
              "\n",
              "        async function convertToInteractive(key) {\n",
              "          const element = document.querySelector('#df-6b8a9782-cff5-48bc-a388-5717bac7efd7');\n",
              "          const dataTable =\n",
              "            await google.colab.kernel.invokeFunction('convertToInteractive',\n",
              "                                                     [key], {});\n",
              "          if (!dataTable) return;\n",
              "\n",
              "          const docLinkHtml = 'Like what you see? Visit the ' +\n",
              "            '<a target=\"_blank\" href=https://colab.research.google.com/notebooks/data_table.ipynb>data table notebook</a>'\n",
              "            + ' to learn more about interactive tables.';\n",
              "          element.innerHTML = '';\n",
              "          dataTable['output_type'] = 'display_data';\n",
              "          await google.colab.output.renderOutput(dataTable, element);\n",
              "          const docLink = document.createElement('div');\n",
              "          docLink.innerHTML = docLinkHtml;\n",
              "          element.appendChild(docLink);\n",
              "        }\n",
              "      </script>\n",
              "    </div>\n",
              "  </div>\n",
              "  "
            ]
          },
          "metadata": {},
          "execution_count": 4
        }
      ]
    },
    {
      "cell_type": "markdown",
      "source": [
        "Performing oversampling by applying SMOTE"
      ],
      "metadata": {
        "id": "1CWcU1dxgiXT"
      }
    },
    {
      "cell_type": "code",
      "source": [
        "x_res=df.iloc[:, df.columns!= 'Class']\n",
        "y_res=df.iloc[:,df.columns=='Class']"
      ],
      "metadata": {
        "id": "Qf_tApU4eoLb"
      },
      "execution_count": 5,
      "outputs": []
    },
    {
      "cell_type": "code",
      "source": [
        "from imblearn.over_sampling import SMOTE"
      ],
      "metadata": {
        "id": "ErqbkjCwiivR"
      },
      "execution_count": 6,
      "outputs": []
    },
    {
      "cell_type": "code",
      "source": [
        "sample=SMOTE()\n",
        "x_res,y_res=sample.fit_resample(x_res,y_res)"
      ],
      "metadata": {
        "id": "nCJ-lGk1ilfZ"
      },
      "execution_count": 7,
      "outputs": []
    },
    {
      "cell_type": "code",
      "source": [
        "x_res"
      ],
      "metadata": {
        "colab": {
          "base_uri": "https://localhost:8080/",
          "height": 488
        },
        "id": "HZhd2O5GiudX",
        "outputId": "51df9cb3-a997-4327-cc84-fbc698dace72"
      },
      "execution_count": 8,
      "outputs": [
        {
          "output_type": "execute_result",
          "data": {
            "text/plain": [
              "      Time        V1        V2        V3        V4        V5        V6  \\\n",
              "0        0 -1.359807 -0.072781  2.536347  1.378155 -0.338321  0.462388   \n",
              "1        0  1.191857  0.266151  0.166480  0.448154  0.060018 -0.082361   \n",
              "2        1 -1.358354 -1.340163  1.773209  0.379780 -0.503198  1.800499   \n",
              "3        1 -0.966272 -0.185226  1.792993 -0.863291 -0.010309  1.247203   \n",
              "4        2 -1.158233  0.877737  1.548718  0.403034 -0.407193  0.095921   \n",
              "...    ...       ...       ...       ...       ...       ...       ...   \n",
              "1521   321 -0.818809 -0.759643  1.318897  0.555979  1.528106  0.398952   \n",
              "1522   557  0.856508  0.370880  0.570176  0.597400 -0.114735 -1.036924   \n",
              "1523   515 -1.399042  0.197461  1.419175 -0.305034  0.939795 -0.547006   \n",
              "1524   260 -0.882419  1.112372 -0.374211  1.670787  0.283976 -0.420874   \n",
              "1525   202 -0.145919  0.228741  0.665085  0.223408  0.996344  0.287743   \n",
              "\n",
              "            V7        V8        V9  ...       V20       V21       V22  \\\n",
              "0     0.239599  0.098698  0.363787  ...  0.251412 -0.018307  0.277838   \n",
              "1    -0.078803  0.085102 -0.255425  ... -0.069083 -0.225775 -0.638672   \n",
              "2     0.791461  0.247676 -1.514654  ...  0.524980  0.247998  0.771679   \n",
              "3     0.237609  0.377436 -1.387024  ... -0.208038 -0.108300  0.005274   \n",
              "4     0.592941 -0.270533  0.817739  ...  0.408542 -0.009431  0.798278   \n",
              "...        ...       ...       ...  ...       ...       ...       ...   \n",
              "1521 -0.739009  0.418646  0.342389  ...  0.242099  0.108384  0.296667   \n",
              "1522  0.238314 -0.200442 -0.014284  ... -0.081948 -0.222024 -0.618376   \n",
              "1523  0.524602  0.016117 -0.045903  ... -0.047824 -0.076531  0.006291   \n",
              "1524 -0.839095  0.641215 -1.183670  ...  0.024529  0.130078 -0.242943   \n",
              "1525  0.041734  0.208139 -0.008600  ...  0.026412 -0.070446 -0.215067   \n",
              "\n",
              "           V23       V24       V25       V26       V27       V28      Amount  \n",
              "0    -0.110474  0.066928  0.128539 -0.189115  0.133558 -0.021053  149.620000  \n",
              "1     0.101288 -0.339846  0.167170  0.125895 -0.008983  0.014724    2.690000  \n",
              "2     0.909412 -0.689281 -0.327642 -0.139097 -0.055353 -0.059752  378.660000  \n",
              "3    -0.190321 -1.175575  0.647376 -0.221929  0.062723  0.061458  123.500000  \n",
              "4    -0.137458  0.141267 -0.206010  0.502292  0.219422  0.215153   69.990000  \n",
              "...        ...       ...       ...       ...       ...       ...         ...  \n",
              "1521  0.214179 -1.145904 -0.885825  0.413397  0.078431  0.057553    1.209413  \n",
              "1522  0.056880  0.350884  0.252324 -0.006241 -0.037288  0.002180    1.236770  \n",
              "1523 -0.260240  0.023458 -0.030832 -0.050488 -0.244301 -0.275564    1.000000  \n",
              "1524 -0.095898 -0.689153 -0.814663  0.116453  0.243528  0.080538    0.593325  \n",
              "1525  0.166544 -1.310346 -1.265330  0.158522  0.194049  0.187725    1.043953  \n",
              "\n",
              "[1526 rows x 30 columns]"
            ],
            "text/html": [
              "\n",
              "  <div id=\"df-94155d6a-2182-4eb4-a195-6b73263e7ee4\">\n",
              "    <div class=\"colab-df-container\">\n",
              "      <div>\n",
              "<style scoped>\n",
              "    .dataframe tbody tr th:only-of-type {\n",
              "        vertical-align: middle;\n",
              "    }\n",
              "\n",
              "    .dataframe tbody tr th {\n",
              "        vertical-align: top;\n",
              "    }\n",
              "\n",
              "    .dataframe thead th {\n",
              "        text-align: right;\n",
              "    }\n",
              "</style>\n",
              "<table border=\"1\" class=\"dataframe\">\n",
              "  <thead>\n",
              "    <tr style=\"text-align: right;\">\n",
              "      <th></th>\n",
              "      <th>Time</th>\n",
              "      <th>V1</th>\n",
              "      <th>V2</th>\n",
              "      <th>V3</th>\n",
              "      <th>V4</th>\n",
              "      <th>V5</th>\n",
              "      <th>V6</th>\n",
              "      <th>V7</th>\n",
              "      <th>V8</th>\n",
              "      <th>V9</th>\n",
              "      <th>...</th>\n",
              "      <th>V20</th>\n",
              "      <th>V21</th>\n",
              "      <th>V22</th>\n",
              "      <th>V23</th>\n",
              "      <th>V24</th>\n",
              "      <th>V25</th>\n",
              "      <th>V26</th>\n",
              "      <th>V27</th>\n",
              "      <th>V28</th>\n",
              "      <th>Amount</th>\n",
              "    </tr>\n",
              "  </thead>\n",
              "  <tbody>\n",
              "    <tr>\n",
              "      <th>0</th>\n",
              "      <td>0</td>\n",
              "      <td>-1.359807</td>\n",
              "      <td>-0.072781</td>\n",
              "      <td>2.536347</td>\n",
              "      <td>1.378155</td>\n",
              "      <td>-0.338321</td>\n",
              "      <td>0.462388</td>\n",
              "      <td>0.239599</td>\n",
              "      <td>0.098698</td>\n",
              "      <td>0.363787</td>\n",
              "      <td>...</td>\n",
              "      <td>0.251412</td>\n",
              "      <td>-0.018307</td>\n",
              "      <td>0.277838</td>\n",
              "      <td>-0.110474</td>\n",
              "      <td>0.066928</td>\n",
              "      <td>0.128539</td>\n",
              "      <td>-0.189115</td>\n",
              "      <td>0.133558</td>\n",
              "      <td>-0.021053</td>\n",
              "      <td>149.620000</td>\n",
              "    </tr>\n",
              "    <tr>\n",
              "      <th>1</th>\n",
              "      <td>0</td>\n",
              "      <td>1.191857</td>\n",
              "      <td>0.266151</td>\n",
              "      <td>0.166480</td>\n",
              "      <td>0.448154</td>\n",
              "      <td>0.060018</td>\n",
              "      <td>-0.082361</td>\n",
              "      <td>-0.078803</td>\n",
              "      <td>0.085102</td>\n",
              "      <td>-0.255425</td>\n",
              "      <td>...</td>\n",
              "      <td>-0.069083</td>\n",
              "      <td>-0.225775</td>\n",
              "      <td>-0.638672</td>\n",
              "      <td>0.101288</td>\n",
              "      <td>-0.339846</td>\n",
              "      <td>0.167170</td>\n",
              "      <td>0.125895</td>\n",
              "      <td>-0.008983</td>\n",
              "      <td>0.014724</td>\n",
              "      <td>2.690000</td>\n",
              "    </tr>\n",
              "    <tr>\n",
              "      <th>2</th>\n",
              "      <td>1</td>\n",
              "      <td>-1.358354</td>\n",
              "      <td>-1.340163</td>\n",
              "      <td>1.773209</td>\n",
              "      <td>0.379780</td>\n",
              "      <td>-0.503198</td>\n",
              "      <td>1.800499</td>\n",
              "      <td>0.791461</td>\n",
              "      <td>0.247676</td>\n",
              "      <td>-1.514654</td>\n",
              "      <td>...</td>\n",
              "      <td>0.524980</td>\n",
              "      <td>0.247998</td>\n",
              "      <td>0.771679</td>\n",
              "      <td>0.909412</td>\n",
              "      <td>-0.689281</td>\n",
              "      <td>-0.327642</td>\n",
              "      <td>-0.139097</td>\n",
              "      <td>-0.055353</td>\n",
              "      <td>-0.059752</td>\n",
              "      <td>378.660000</td>\n",
              "    </tr>\n",
              "    <tr>\n",
              "      <th>3</th>\n",
              "      <td>1</td>\n",
              "      <td>-0.966272</td>\n",
              "      <td>-0.185226</td>\n",
              "      <td>1.792993</td>\n",
              "      <td>-0.863291</td>\n",
              "      <td>-0.010309</td>\n",
              "      <td>1.247203</td>\n",
              "      <td>0.237609</td>\n",
              "      <td>0.377436</td>\n",
              "      <td>-1.387024</td>\n",
              "      <td>...</td>\n",
              "      <td>-0.208038</td>\n",
              "      <td>-0.108300</td>\n",
              "      <td>0.005274</td>\n",
              "      <td>-0.190321</td>\n",
              "      <td>-1.175575</td>\n",
              "      <td>0.647376</td>\n",
              "      <td>-0.221929</td>\n",
              "      <td>0.062723</td>\n",
              "      <td>0.061458</td>\n",
              "      <td>123.500000</td>\n",
              "    </tr>\n",
              "    <tr>\n",
              "      <th>4</th>\n",
              "      <td>2</td>\n",
              "      <td>-1.158233</td>\n",
              "      <td>0.877737</td>\n",
              "      <td>1.548718</td>\n",
              "      <td>0.403034</td>\n",
              "      <td>-0.407193</td>\n",
              "      <td>0.095921</td>\n",
              "      <td>0.592941</td>\n",
              "      <td>-0.270533</td>\n",
              "      <td>0.817739</td>\n",
              "      <td>...</td>\n",
              "      <td>0.408542</td>\n",
              "      <td>-0.009431</td>\n",
              "      <td>0.798278</td>\n",
              "      <td>-0.137458</td>\n",
              "      <td>0.141267</td>\n",
              "      <td>-0.206010</td>\n",
              "      <td>0.502292</td>\n",
              "      <td>0.219422</td>\n",
              "      <td>0.215153</td>\n",
              "      <td>69.990000</td>\n",
              "    </tr>\n",
              "    <tr>\n",
              "      <th>...</th>\n",
              "      <td>...</td>\n",
              "      <td>...</td>\n",
              "      <td>...</td>\n",
              "      <td>...</td>\n",
              "      <td>...</td>\n",
              "      <td>...</td>\n",
              "      <td>...</td>\n",
              "      <td>...</td>\n",
              "      <td>...</td>\n",
              "      <td>...</td>\n",
              "      <td>...</td>\n",
              "      <td>...</td>\n",
              "      <td>...</td>\n",
              "      <td>...</td>\n",
              "      <td>...</td>\n",
              "      <td>...</td>\n",
              "      <td>...</td>\n",
              "      <td>...</td>\n",
              "      <td>...</td>\n",
              "      <td>...</td>\n",
              "      <td>...</td>\n",
              "    </tr>\n",
              "    <tr>\n",
              "      <th>1521</th>\n",
              "      <td>321</td>\n",
              "      <td>-0.818809</td>\n",
              "      <td>-0.759643</td>\n",
              "      <td>1.318897</td>\n",
              "      <td>0.555979</td>\n",
              "      <td>1.528106</td>\n",
              "      <td>0.398952</td>\n",
              "      <td>-0.739009</td>\n",
              "      <td>0.418646</td>\n",
              "      <td>0.342389</td>\n",
              "      <td>...</td>\n",
              "      <td>0.242099</td>\n",
              "      <td>0.108384</td>\n",
              "      <td>0.296667</td>\n",
              "      <td>0.214179</td>\n",
              "      <td>-1.145904</td>\n",
              "      <td>-0.885825</td>\n",
              "      <td>0.413397</td>\n",
              "      <td>0.078431</td>\n",
              "      <td>0.057553</td>\n",
              "      <td>1.209413</td>\n",
              "    </tr>\n",
              "    <tr>\n",
              "      <th>1522</th>\n",
              "      <td>557</td>\n",
              "      <td>0.856508</td>\n",
              "      <td>0.370880</td>\n",
              "      <td>0.570176</td>\n",
              "      <td>0.597400</td>\n",
              "      <td>-0.114735</td>\n",
              "      <td>-1.036924</td>\n",
              "      <td>0.238314</td>\n",
              "      <td>-0.200442</td>\n",
              "      <td>-0.014284</td>\n",
              "      <td>...</td>\n",
              "      <td>-0.081948</td>\n",
              "      <td>-0.222024</td>\n",
              "      <td>-0.618376</td>\n",
              "      <td>0.056880</td>\n",
              "      <td>0.350884</td>\n",
              "      <td>0.252324</td>\n",
              "      <td>-0.006241</td>\n",
              "      <td>-0.037288</td>\n",
              "      <td>0.002180</td>\n",
              "      <td>1.236770</td>\n",
              "    </tr>\n",
              "    <tr>\n",
              "      <th>1523</th>\n",
              "      <td>515</td>\n",
              "      <td>-1.399042</td>\n",
              "      <td>0.197461</td>\n",
              "      <td>1.419175</td>\n",
              "      <td>-0.305034</td>\n",
              "      <td>0.939795</td>\n",
              "      <td>-0.547006</td>\n",
              "      <td>0.524602</td>\n",
              "      <td>0.016117</td>\n",
              "      <td>-0.045903</td>\n",
              "      <td>...</td>\n",
              "      <td>-0.047824</td>\n",
              "      <td>-0.076531</td>\n",
              "      <td>0.006291</td>\n",
              "      <td>-0.260240</td>\n",
              "      <td>0.023458</td>\n",
              "      <td>-0.030832</td>\n",
              "      <td>-0.050488</td>\n",
              "      <td>-0.244301</td>\n",
              "      <td>-0.275564</td>\n",
              "      <td>1.000000</td>\n",
              "    </tr>\n",
              "    <tr>\n",
              "      <th>1524</th>\n",
              "      <td>260</td>\n",
              "      <td>-0.882419</td>\n",
              "      <td>1.112372</td>\n",
              "      <td>-0.374211</td>\n",
              "      <td>1.670787</td>\n",
              "      <td>0.283976</td>\n",
              "      <td>-0.420874</td>\n",
              "      <td>-0.839095</td>\n",
              "      <td>0.641215</td>\n",
              "      <td>-1.183670</td>\n",
              "      <td>...</td>\n",
              "      <td>0.024529</td>\n",
              "      <td>0.130078</td>\n",
              "      <td>-0.242943</td>\n",
              "      <td>-0.095898</td>\n",
              "      <td>-0.689153</td>\n",
              "      <td>-0.814663</td>\n",
              "      <td>0.116453</td>\n",
              "      <td>0.243528</td>\n",
              "      <td>0.080538</td>\n",
              "      <td>0.593325</td>\n",
              "    </tr>\n",
              "    <tr>\n",
              "      <th>1525</th>\n",
              "      <td>202</td>\n",
              "      <td>-0.145919</td>\n",
              "      <td>0.228741</td>\n",
              "      <td>0.665085</td>\n",
              "      <td>0.223408</td>\n",
              "      <td>0.996344</td>\n",
              "      <td>0.287743</td>\n",
              "      <td>0.041734</td>\n",
              "      <td>0.208139</td>\n",
              "      <td>-0.008600</td>\n",
              "      <td>...</td>\n",
              "      <td>0.026412</td>\n",
              "      <td>-0.070446</td>\n",
              "      <td>-0.215067</td>\n",
              "      <td>0.166544</td>\n",
              "      <td>-1.310346</td>\n",
              "      <td>-1.265330</td>\n",
              "      <td>0.158522</td>\n",
              "      <td>0.194049</td>\n",
              "      <td>0.187725</td>\n",
              "      <td>1.043953</td>\n",
              "    </tr>\n",
              "  </tbody>\n",
              "</table>\n",
              "<p>1526 rows × 30 columns</p>\n",
              "</div>\n",
              "      <button class=\"colab-df-convert\" onclick=\"convertToInteractive('df-94155d6a-2182-4eb4-a195-6b73263e7ee4')\"\n",
              "              title=\"Convert this dataframe to an interactive table.\"\n",
              "              style=\"display:none;\">\n",
              "        \n",
              "  <svg xmlns=\"http://www.w3.org/2000/svg\" height=\"24px\"viewBox=\"0 0 24 24\"\n",
              "       width=\"24px\">\n",
              "    <path d=\"M0 0h24v24H0V0z\" fill=\"none\"/>\n",
              "    <path d=\"M18.56 5.44l.94 2.06.94-2.06 2.06-.94-2.06-.94-.94-2.06-.94 2.06-2.06.94zm-11 1L8.5 8.5l.94-2.06 2.06-.94-2.06-.94L8.5 2.5l-.94 2.06-2.06.94zm10 10l.94 2.06.94-2.06 2.06-.94-2.06-.94-.94-2.06-.94 2.06-2.06.94z\"/><path d=\"M17.41 7.96l-1.37-1.37c-.4-.4-.92-.59-1.43-.59-.52 0-1.04.2-1.43.59L10.3 9.45l-7.72 7.72c-.78.78-.78 2.05 0 2.83L4 21.41c.39.39.9.59 1.41.59.51 0 1.02-.2 1.41-.59l7.78-7.78 2.81-2.81c.8-.78.8-2.07 0-2.86zM5.41 20L4 18.59l7.72-7.72 1.47 1.35L5.41 20z\"/>\n",
              "  </svg>\n",
              "      </button>\n",
              "      \n",
              "  <style>\n",
              "    .colab-df-container {\n",
              "      display:flex;\n",
              "      flex-wrap:wrap;\n",
              "      gap: 12px;\n",
              "    }\n",
              "\n",
              "    .colab-df-convert {\n",
              "      background-color: #E8F0FE;\n",
              "      border: none;\n",
              "      border-radius: 50%;\n",
              "      cursor: pointer;\n",
              "      display: none;\n",
              "      fill: #1967D2;\n",
              "      height: 32px;\n",
              "      padding: 0 0 0 0;\n",
              "      width: 32px;\n",
              "    }\n",
              "\n",
              "    .colab-df-convert:hover {\n",
              "      background-color: #E2EBFA;\n",
              "      box-shadow: 0px 1px 2px rgba(60, 64, 67, 0.3), 0px 1px 3px 1px rgba(60, 64, 67, 0.15);\n",
              "      fill: #174EA6;\n",
              "    }\n",
              "\n",
              "    [theme=dark] .colab-df-convert {\n",
              "      background-color: #3B4455;\n",
              "      fill: #D2E3FC;\n",
              "    }\n",
              "\n",
              "    [theme=dark] .colab-df-convert:hover {\n",
              "      background-color: #434B5C;\n",
              "      box-shadow: 0px 1px 3px 1px rgba(0, 0, 0, 0.15);\n",
              "      filter: drop-shadow(0px 1px 2px rgba(0, 0, 0, 0.3));\n",
              "      fill: #FFFFFF;\n",
              "    }\n",
              "  </style>\n",
              "\n",
              "      <script>\n",
              "        const buttonEl =\n",
              "          document.querySelector('#df-94155d6a-2182-4eb4-a195-6b73263e7ee4 button.colab-df-convert');\n",
              "        buttonEl.style.display =\n",
              "          google.colab.kernel.accessAllowed ? 'block' : 'none';\n",
              "\n",
              "        async function convertToInteractive(key) {\n",
              "          const element = document.querySelector('#df-94155d6a-2182-4eb4-a195-6b73263e7ee4');\n",
              "          const dataTable =\n",
              "            await google.colab.kernel.invokeFunction('convertToInteractive',\n",
              "                                                     [key], {});\n",
              "          if (!dataTable) return;\n",
              "\n",
              "          const docLinkHtml = 'Like what you see? Visit the ' +\n",
              "            '<a target=\"_blank\" href=https://colab.research.google.com/notebooks/data_table.ipynb>data table notebook</a>'\n",
              "            + ' to learn more about interactive tables.';\n",
              "          element.innerHTML = '';\n",
              "          dataTable['output_type'] = 'display_data';\n",
              "          await google.colab.output.renderOutput(dataTable, element);\n",
              "          const docLink = document.createElement('div');\n",
              "          docLink.innerHTML = docLinkHtml;\n",
              "          element.appendChild(docLink);\n",
              "        }\n",
              "      </script>\n",
              "    </div>\n",
              "  </div>\n",
              "  "
            ]
          },
          "metadata": {},
          "execution_count": 8
        }
      ]
    },
    {
      "cell_type": "code",
      "source": [
        "x_res['Class']=y_res"
      ],
      "metadata": {
        "id": "huACzugmkJWx"
      },
      "execution_count": 9,
      "outputs": []
    },
    {
      "cell_type": "code",
      "source": [
        "x_res"
      ],
      "metadata": {
        "colab": {
          "base_uri": "https://localhost:8080/",
          "height": 488
        },
        "id": "aDZg3-DJkQF9",
        "outputId": "c12367fa-9372-478e-c686-b8f523a0b14c"
      },
      "execution_count": 10,
      "outputs": [
        {
          "output_type": "execute_result",
          "data": {
            "text/plain": [
              "      Time        V1        V2        V3        V4        V5        V6  \\\n",
              "0        0 -1.359807 -0.072781  2.536347  1.378155 -0.338321  0.462388   \n",
              "1        0  1.191857  0.266151  0.166480  0.448154  0.060018 -0.082361   \n",
              "2        1 -1.358354 -1.340163  1.773209  0.379780 -0.503198  1.800499   \n",
              "3        1 -0.966272 -0.185226  1.792993 -0.863291 -0.010309  1.247203   \n",
              "4        2 -1.158233  0.877737  1.548718  0.403034 -0.407193  0.095921   \n",
              "...    ...       ...       ...       ...       ...       ...       ...   \n",
              "1521   321 -0.818809 -0.759643  1.318897  0.555979  1.528106  0.398952   \n",
              "1522   557  0.856508  0.370880  0.570176  0.597400 -0.114735 -1.036924   \n",
              "1523   515 -1.399042  0.197461  1.419175 -0.305034  0.939795 -0.547006   \n",
              "1524   260 -0.882419  1.112372 -0.374211  1.670787  0.283976 -0.420874   \n",
              "1525   202 -0.145919  0.228741  0.665085  0.223408  0.996344  0.287743   \n",
              "\n",
              "            V7        V8        V9  ...       V21       V22       V23  \\\n",
              "0     0.239599  0.098698  0.363787  ... -0.018307  0.277838 -0.110474   \n",
              "1    -0.078803  0.085102 -0.255425  ... -0.225775 -0.638672  0.101288   \n",
              "2     0.791461  0.247676 -1.514654  ...  0.247998  0.771679  0.909412   \n",
              "3     0.237609  0.377436 -1.387024  ... -0.108300  0.005274 -0.190321   \n",
              "4     0.592941 -0.270533  0.817739  ... -0.009431  0.798278 -0.137458   \n",
              "...        ...       ...       ...  ...       ...       ...       ...   \n",
              "1521 -0.739009  0.418646  0.342389  ...  0.108384  0.296667  0.214179   \n",
              "1522  0.238314 -0.200442 -0.014284  ... -0.222024 -0.618376  0.056880   \n",
              "1523  0.524602  0.016117 -0.045903  ... -0.076531  0.006291 -0.260240   \n",
              "1524 -0.839095  0.641215 -1.183670  ...  0.130078 -0.242943 -0.095898   \n",
              "1525  0.041734  0.208139 -0.008600  ... -0.070446 -0.215067  0.166544   \n",
              "\n",
              "           V24       V25       V26       V27       V28      Amount  Class  \n",
              "0     0.066928  0.128539 -0.189115  0.133558 -0.021053  149.620000      0  \n",
              "1    -0.339846  0.167170  0.125895 -0.008983  0.014724    2.690000      1  \n",
              "2    -0.689281 -0.327642 -0.139097 -0.055353 -0.059752  378.660000      0  \n",
              "3    -1.175575  0.647376 -0.221929  0.062723  0.061458  123.500000      0  \n",
              "4     0.141267 -0.206010  0.502292  0.219422  0.215153   69.990000      0  \n",
              "...        ...       ...       ...       ...       ...         ...    ...  \n",
              "1521 -1.145904 -0.885825  0.413397  0.078431  0.057553    1.209413      1  \n",
              "1522  0.350884  0.252324 -0.006241 -0.037288  0.002180    1.236770      1  \n",
              "1523  0.023458 -0.030832 -0.050488 -0.244301 -0.275564    1.000000      1  \n",
              "1524 -0.689153 -0.814663  0.116453  0.243528  0.080538    0.593325      1  \n",
              "1525 -1.310346 -1.265330  0.158522  0.194049  0.187725    1.043953      1  \n",
              "\n",
              "[1526 rows x 31 columns]"
            ],
            "text/html": [
              "\n",
              "  <div id=\"df-02140b90-37db-401f-a667-57f6bf7333a0\">\n",
              "    <div class=\"colab-df-container\">\n",
              "      <div>\n",
              "<style scoped>\n",
              "    .dataframe tbody tr th:only-of-type {\n",
              "        vertical-align: middle;\n",
              "    }\n",
              "\n",
              "    .dataframe tbody tr th {\n",
              "        vertical-align: top;\n",
              "    }\n",
              "\n",
              "    .dataframe thead th {\n",
              "        text-align: right;\n",
              "    }\n",
              "</style>\n",
              "<table border=\"1\" class=\"dataframe\">\n",
              "  <thead>\n",
              "    <tr style=\"text-align: right;\">\n",
              "      <th></th>\n",
              "      <th>Time</th>\n",
              "      <th>V1</th>\n",
              "      <th>V2</th>\n",
              "      <th>V3</th>\n",
              "      <th>V4</th>\n",
              "      <th>V5</th>\n",
              "      <th>V6</th>\n",
              "      <th>V7</th>\n",
              "      <th>V8</th>\n",
              "      <th>V9</th>\n",
              "      <th>...</th>\n",
              "      <th>V21</th>\n",
              "      <th>V22</th>\n",
              "      <th>V23</th>\n",
              "      <th>V24</th>\n",
              "      <th>V25</th>\n",
              "      <th>V26</th>\n",
              "      <th>V27</th>\n",
              "      <th>V28</th>\n",
              "      <th>Amount</th>\n",
              "      <th>Class</th>\n",
              "    </tr>\n",
              "  </thead>\n",
              "  <tbody>\n",
              "    <tr>\n",
              "      <th>0</th>\n",
              "      <td>0</td>\n",
              "      <td>-1.359807</td>\n",
              "      <td>-0.072781</td>\n",
              "      <td>2.536347</td>\n",
              "      <td>1.378155</td>\n",
              "      <td>-0.338321</td>\n",
              "      <td>0.462388</td>\n",
              "      <td>0.239599</td>\n",
              "      <td>0.098698</td>\n",
              "      <td>0.363787</td>\n",
              "      <td>...</td>\n",
              "      <td>-0.018307</td>\n",
              "      <td>0.277838</td>\n",
              "      <td>-0.110474</td>\n",
              "      <td>0.066928</td>\n",
              "      <td>0.128539</td>\n",
              "      <td>-0.189115</td>\n",
              "      <td>0.133558</td>\n",
              "      <td>-0.021053</td>\n",
              "      <td>149.620000</td>\n",
              "      <td>0</td>\n",
              "    </tr>\n",
              "    <tr>\n",
              "      <th>1</th>\n",
              "      <td>0</td>\n",
              "      <td>1.191857</td>\n",
              "      <td>0.266151</td>\n",
              "      <td>0.166480</td>\n",
              "      <td>0.448154</td>\n",
              "      <td>0.060018</td>\n",
              "      <td>-0.082361</td>\n",
              "      <td>-0.078803</td>\n",
              "      <td>0.085102</td>\n",
              "      <td>-0.255425</td>\n",
              "      <td>...</td>\n",
              "      <td>-0.225775</td>\n",
              "      <td>-0.638672</td>\n",
              "      <td>0.101288</td>\n",
              "      <td>-0.339846</td>\n",
              "      <td>0.167170</td>\n",
              "      <td>0.125895</td>\n",
              "      <td>-0.008983</td>\n",
              "      <td>0.014724</td>\n",
              "      <td>2.690000</td>\n",
              "      <td>1</td>\n",
              "    </tr>\n",
              "    <tr>\n",
              "      <th>2</th>\n",
              "      <td>1</td>\n",
              "      <td>-1.358354</td>\n",
              "      <td>-1.340163</td>\n",
              "      <td>1.773209</td>\n",
              "      <td>0.379780</td>\n",
              "      <td>-0.503198</td>\n",
              "      <td>1.800499</td>\n",
              "      <td>0.791461</td>\n",
              "      <td>0.247676</td>\n",
              "      <td>-1.514654</td>\n",
              "      <td>...</td>\n",
              "      <td>0.247998</td>\n",
              "      <td>0.771679</td>\n",
              "      <td>0.909412</td>\n",
              "      <td>-0.689281</td>\n",
              "      <td>-0.327642</td>\n",
              "      <td>-0.139097</td>\n",
              "      <td>-0.055353</td>\n",
              "      <td>-0.059752</td>\n",
              "      <td>378.660000</td>\n",
              "      <td>0</td>\n",
              "    </tr>\n",
              "    <tr>\n",
              "      <th>3</th>\n",
              "      <td>1</td>\n",
              "      <td>-0.966272</td>\n",
              "      <td>-0.185226</td>\n",
              "      <td>1.792993</td>\n",
              "      <td>-0.863291</td>\n",
              "      <td>-0.010309</td>\n",
              "      <td>1.247203</td>\n",
              "      <td>0.237609</td>\n",
              "      <td>0.377436</td>\n",
              "      <td>-1.387024</td>\n",
              "      <td>...</td>\n",
              "      <td>-0.108300</td>\n",
              "      <td>0.005274</td>\n",
              "      <td>-0.190321</td>\n",
              "      <td>-1.175575</td>\n",
              "      <td>0.647376</td>\n",
              "      <td>-0.221929</td>\n",
              "      <td>0.062723</td>\n",
              "      <td>0.061458</td>\n",
              "      <td>123.500000</td>\n",
              "      <td>0</td>\n",
              "    </tr>\n",
              "    <tr>\n",
              "      <th>4</th>\n",
              "      <td>2</td>\n",
              "      <td>-1.158233</td>\n",
              "      <td>0.877737</td>\n",
              "      <td>1.548718</td>\n",
              "      <td>0.403034</td>\n",
              "      <td>-0.407193</td>\n",
              "      <td>0.095921</td>\n",
              "      <td>0.592941</td>\n",
              "      <td>-0.270533</td>\n",
              "      <td>0.817739</td>\n",
              "      <td>...</td>\n",
              "      <td>-0.009431</td>\n",
              "      <td>0.798278</td>\n",
              "      <td>-0.137458</td>\n",
              "      <td>0.141267</td>\n",
              "      <td>-0.206010</td>\n",
              "      <td>0.502292</td>\n",
              "      <td>0.219422</td>\n",
              "      <td>0.215153</td>\n",
              "      <td>69.990000</td>\n",
              "      <td>0</td>\n",
              "    </tr>\n",
              "    <tr>\n",
              "      <th>...</th>\n",
              "      <td>...</td>\n",
              "      <td>...</td>\n",
              "      <td>...</td>\n",
              "      <td>...</td>\n",
              "      <td>...</td>\n",
              "      <td>...</td>\n",
              "      <td>...</td>\n",
              "      <td>...</td>\n",
              "      <td>...</td>\n",
              "      <td>...</td>\n",
              "      <td>...</td>\n",
              "      <td>...</td>\n",
              "      <td>...</td>\n",
              "      <td>...</td>\n",
              "      <td>...</td>\n",
              "      <td>...</td>\n",
              "      <td>...</td>\n",
              "      <td>...</td>\n",
              "      <td>...</td>\n",
              "      <td>...</td>\n",
              "      <td>...</td>\n",
              "    </tr>\n",
              "    <tr>\n",
              "      <th>1521</th>\n",
              "      <td>321</td>\n",
              "      <td>-0.818809</td>\n",
              "      <td>-0.759643</td>\n",
              "      <td>1.318897</td>\n",
              "      <td>0.555979</td>\n",
              "      <td>1.528106</td>\n",
              "      <td>0.398952</td>\n",
              "      <td>-0.739009</td>\n",
              "      <td>0.418646</td>\n",
              "      <td>0.342389</td>\n",
              "      <td>...</td>\n",
              "      <td>0.108384</td>\n",
              "      <td>0.296667</td>\n",
              "      <td>0.214179</td>\n",
              "      <td>-1.145904</td>\n",
              "      <td>-0.885825</td>\n",
              "      <td>0.413397</td>\n",
              "      <td>0.078431</td>\n",
              "      <td>0.057553</td>\n",
              "      <td>1.209413</td>\n",
              "      <td>1</td>\n",
              "    </tr>\n",
              "    <tr>\n",
              "      <th>1522</th>\n",
              "      <td>557</td>\n",
              "      <td>0.856508</td>\n",
              "      <td>0.370880</td>\n",
              "      <td>0.570176</td>\n",
              "      <td>0.597400</td>\n",
              "      <td>-0.114735</td>\n",
              "      <td>-1.036924</td>\n",
              "      <td>0.238314</td>\n",
              "      <td>-0.200442</td>\n",
              "      <td>-0.014284</td>\n",
              "      <td>...</td>\n",
              "      <td>-0.222024</td>\n",
              "      <td>-0.618376</td>\n",
              "      <td>0.056880</td>\n",
              "      <td>0.350884</td>\n",
              "      <td>0.252324</td>\n",
              "      <td>-0.006241</td>\n",
              "      <td>-0.037288</td>\n",
              "      <td>0.002180</td>\n",
              "      <td>1.236770</td>\n",
              "      <td>1</td>\n",
              "    </tr>\n",
              "    <tr>\n",
              "      <th>1523</th>\n",
              "      <td>515</td>\n",
              "      <td>-1.399042</td>\n",
              "      <td>0.197461</td>\n",
              "      <td>1.419175</td>\n",
              "      <td>-0.305034</td>\n",
              "      <td>0.939795</td>\n",
              "      <td>-0.547006</td>\n",
              "      <td>0.524602</td>\n",
              "      <td>0.016117</td>\n",
              "      <td>-0.045903</td>\n",
              "      <td>...</td>\n",
              "      <td>-0.076531</td>\n",
              "      <td>0.006291</td>\n",
              "      <td>-0.260240</td>\n",
              "      <td>0.023458</td>\n",
              "      <td>-0.030832</td>\n",
              "      <td>-0.050488</td>\n",
              "      <td>-0.244301</td>\n",
              "      <td>-0.275564</td>\n",
              "      <td>1.000000</td>\n",
              "      <td>1</td>\n",
              "    </tr>\n",
              "    <tr>\n",
              "      <th>1524</th>\n",
              "      <td>260</td>\n",
              "      <td>-0.882419</td>\n",
              "      <td>1.112372</td>\n",
              "      <td>-0.374211</td>\n",
              "      <td>1.670787</td>\n",
              "      <td>0.283976</td>\n",
              "      <td>-0.420874</td>\n",
              "      <td>-0.839095</td>\n",
              "      <td>0.641215</td>\n",
              "      <td>-1.183670</td>\n",
              "      <td>...</td>\n",
              "      <td>0.130078</td>\n",
              "      <td>-0.242943</td>\n",
              "      <td>-0.095898</td>\n",
              "      <td>-0.689153</td>\n",
              "      <td>-0.814663</td>\n",
              "      <td>0.116453</td>\n",
              "      <td>0.243528</td>\n",
              "      <td>0.080538</td>\n",
              "      <td>0.593325</td>\n",
              "      <td>1</td>\n",
              "    </tr>\n",
              "    <tr>\n",
              "      <th>1525</th>\n",
              "      <td>202</td>\n",
              "      <td>-0.145919</td>\n",
              "      <td>0.228741</td>\n",
              "      <td>0.665085</td>\n",
              "      <td>0.223408</td>\n",
              "      <td>0.996344</td>\n",
              "      <td>0.287743</td>\n",
              "      <td>0.041734</td>\n",
              "      <td>0.208139</td>\n",
              "      <td>-0.008600</td>\n",
              "      <td>...</td>\n",
              "      <td>-0.070446</td>\n",
              "      <td>-0.215067</td>\n",
              "      <td>0.166544</td>\n",
              "      <td>-1.310346</td>\n",
              "      <td>-1.265330</td>\n",
              "      <td>0.158522</td>\n",
              "      <td>0.194049</td>\n",
              "      <td>0.187725</td>\n",
              "      <td>1.043953</td>\n",
              "      <td>1</td>\n",
              "    </tr>\n",
              "  </tbody>\n",
              "</table>\n",
              "<p>1526 rows × 31 columns</p>\n",
              "</div>\n",
              "      <button class=\"colab-df-convert\" onclick=\"convertToInteractive('df-02140b90-37db-401f-a667-57f6bf7333a0')\"\n",
              "              title=\"Convert this dataframe to an interactive table.\"\n",
              "              style=\"display:none;\">\n",
              "        \n",
              "  <svg xmlns=\"http://www.w3.org/2000/svg\" height=\"24px\"viewBox=\"0 0 24 24\"\n",
              "       width=\"24px\">\n",
              "    <path d=\"M0 0h24v24H0V0z\" fill=\"none\"/>\n",
              "    <path d=\"M18.56 5.44l.94 2.06.94-2.06 2.06-.94-2.06-.94-.94-2.06-.94 2.06-2.06.94zm-11 1L8.5 8.5l.94-2.06 2.06-.94-2.06-.94L8.5 2.5l-.94 2.06-2.06.94zm10 10l.94 2.06.94-2.06 2.06-.94-2.06-.94-.94-2.06-.94 2.06-2.06.94z\"/><path d=\"M17.41 7.96l-1.37-1.37c-.4-.4-.92-.59-1.43-.59-.52 0-1.04.2-1.43.59L10.3 9.45l-7.72 7.72c-.78.78-.78 2.05 0 2.83L4 21.41c.39.39.9.59 1.41.59.51 0 1.02-.2 1.41-.59l7.78-7.78 2.81-2.81c.8-.78.8-2.07 0-2.86zM5.41 20L4 18.59l7.72-7.72 1.47 1.35L5.41 20z\"/>\n",
              "  </svg>\n",
              "      </button>\n",
              "      \n",
              "  <style>\n",
              "    .colab-df-container {\n",
              "      display:flex;\n",
              "      flex-wrap:wrap;\n",
              "      gap: 12px;\n",
              "    }\n",
              "\n",
              "    .colab-df-convert {\n",
              "      background-color: #E8F0FE;\n",
              "      border: none;\n",
              "      border-radius: 50%;\n",
              "      cursor: pointer;\n",
              "      display: none;\n",
              "      fill: #1967D2;\n",
              "      height: 32px;\n",
              "      padding: 0 0 0 0;\n",
              "      width: 32px;\n",
              "    }\n",
              "\n",
              "    .colab-df-convert:hover {\n",
              "      background-color: #E2EBFA;\n",
              "      box-shadow: 0px 1px 2px rgba(60, 64, 67, 0.3), 0px 1px 3px 1px rgba(60, 64, 67, 0.15);\n",
              "      fill: #174EA6;\n",
              "    }\n",
              "\n",
              "    [theme=dark] .colab-df-convert {\n",
              "      background-color: #3B4455;\n",
              "      fill: #D2E3FC;\n",
              "    }\n",
              "\n",
              "    [theme=dark] .colab-df-convert:hover {\n",
              "      background-color: #434B5C;\n",
              "      box-shadow: 0px 1px 3px 1px rgba(0, 0, 0, 0.15);\n",
              "      filter: drop-shadow(0px 1px 2px rgba(0, 0, 0, 0.3));\n",
              "      fill: #FFFFFF;\n",
              "    }\n",
              "  </style>\n",
              "\n",
              "      <script>\n",
              "        const buttonEl =\n",
              "          document.querySelector('#df-02140b90-37db-401f-a667-57f6bf7333a0 button.colab-df-convert');\n",
              "        buttonEl.style.display =\n",
              "          google.colab.kernel.accessAllowed ? 'block' : 'none';\n",
              "\n",
              "        async function convertToInteractive(key) {\n",
              "          const element = document.querySelector('#df-02140b90-37db-401f-a667-57f6bf7333a0');\n",
              "          const dataTable =\n",
              "            await google.colab.kernel.invokeFunction('convertToInteractive',\n",
              "                                                     [key], {});\n",
              "          if (!dataTable) return;\n",
              "\n",
              "          const docLinkHtml = 'Like what you see? Visit the ' +\n",
              "            '<a target=\"_blank\" href=https://colab.research.google.com/notebooks/data_table.ipynb>data table notebook</a>'\n",
              "            + ' to learn more about interactive tables.';\n",
              "          element.innerHTML = '';\n",
              "          dataTable['output_type'] = 'display_data';\n",
              "          await google.colab.output.renderOutput(dataTable, element);\n",
              "          const docLink = document.createElement('div');\n",
              "          docLink.innerHTML = docLinkHtml;\n",
              "          element.appendChild(docLink);\n",
              "        }\n",
              "      </script>\n",
              "    </div>\n",
              "  </div>\n",
              "  "
            ]
          },
          "metadata": {},
          "execution_count": 10
        }
      ]
    },
    {
      "cell_type": "markdown",
      "source": [
        "### RANDOM SAMPLING"
      ],
      "metadata": {
        "id": "juMOFnETzHAV"
      }
    },
    {
      "cell_type": "code",
      "source": [
        "sample_df=x_res.sample(1067)"
      ],
      "metadata": {
        "id": "DEqna4hojALt"
      },
      "execution_count": 11,
      "outputs": []
    },
    {
      "cell_type": "code",
      "source": [
        "x=sample_df.iloc[:, sample_df.columns!= 'Class']\n",
        "y=sample_df.iloc[:,sample_df.columns=='Class']"
      ],
      "metadata": {
        "id": "pOopwoqmo4dP"
      },
      "execution_count": 12,
      "outputs": []
    },
    {
      "cell_type": "markdown",
      "source": [
        "Splitting the data in test and train data"
      ],
      "metadata": {
        "id": "mmhG-skFgndc"
      }
    },
    {
      "cell_type": "code",
      "source": [
        "from sklearn.model_selection import train_test_split\n",
        "x_train, x_test, y_train, y_test = train_test_split(x, y, test_size = 0.20, random_state = 0)"
      ],
      "metadata": {
        "id": "9A20j0t_fFCM"
      },
      "execution_count": 13,
      "outputs": []
    },
    {
      "cell_type": "markdown",
      "source": [
        "Using Naive Bayes algorithm"
      ],
      "metadata": {
        "id": "9r3M1rWFgrde"
      }
    },
    {
      "cell_type": "code",
      "source": [
        "from sklearn.naive_bayes import GaussianNB\n",
        "classifier = GaussianNB()\n",
        "classifier.fit(x_train, y_train)"
      ],
      "metadata": {
        "colab": {
          "base_uri": "https://localhost:8080/"
        },
        "id": "LzfIxfYwfyuf",
        "outputId": "d71c7ec0-1397-4850-ee95-3d76c88272ba"
      },
      "execution_count": 14,
      "outputs": [
        {
          "output_type": "stream",
          "name": "stderr",
          "text": [
            "/usr/local/lib/python3.8/dist-packages/sklearn/utils/validation.py:993: DataConversionWarning: A column-vector y was passed when a 1d array was expected. Please change the shape of y to (n_samples, ), for example using ravel().\n",
            "  y = column_or_1d(y, warn=True)\n"
          ]
        },
        {
          "output_type": "execute_result",
          "data": {
            "text/plain": [
              "GaussianNB()"
            ]
          },
          "metadata": {},
          "execution_count": 14
        }
      ]
    },
    {
      "cell_type": "code",
      "source": [
        "y_pred  =  classifier.predict(x_test)\n",
        "print(y_pred)"
      ],
      "metadata": {
        "id": "wbpy7MIDf7pr",
        "colab": {
          "base_uri": "https://localhost:8080/"
        },
        "outputId": "e9576a3b-d63d-4058-9d7d-6f5f298fe154"
      },
      "execution_count": 15,
      "outputs": [
        {
          "output_type": "stream",
          "name": "stdout",
          "text": [
            "[1 1 0 1 1 1 1 0 1 1 0 0 1 1 1 0 0 0 0 0 0 1 1 1 0 1 0 1 1 1 1 1 1 1 1 1 1\n",
            " 1 0 1 1 1 1 0 0 1 1 0 0 1 1 0 1 0 0 1 0 1 1 0 1 0 1 1 0 1 1 0 1 1 1 0 1 1\n",
            " 0 0 1 0 0 1 1 1 0 0 1 0 1 0 1 1 1 0 0 1 0 1 1 1 1 1 0 1 1 0 1 1 0 1 0 0 0\n",
            " 1 1 1 1 1 1 1 1 1 1 1 1 0 1 1 0 1 0 0 1 1 0 1 1 0 1 0 1 0 1 0 1 0 0 1 0 1\n",
            " 1 0 0 1 1 1 1 1 0 1 0 1 1 1 1 1 0 1 1 1 1 0 1 1 1 1 1 1 0 1 1 0 0 1 0 0 1\n",
            " 0 0 0 1 1 1 1 0 1 1 1 1 1 1 1 1 1 1 1 1 0 1 0 1 1 1 1 1 1]\n"
          ]
        }
      ]
    },
    {
      "cell_type": "code",
      "source": [
        "from sklearn.metrics import accuracy_score\n",
        "score=accuracy_score(y_pred,y_test)\n",
        "print(score)"
      ],
      "metadata": {
        "colab": {
          "base_uri": "https://localhost:8080/"
        },
        "id": "qa5XEaj8gCem",
        "outputId": "4cfffdd7-2592-408d-bc10-0493aa679df5"
      },
      "execution_count": 16,
      "outputs": [
        {
          "output_type": "stream",
          "name": "stdout",
          "text": [
            "0.8457943925233645\n"
          ]
        }
      ]
    },
    {
      "cell_type": "code",
      "source": [
        "from sklearn.ensemble import RandomForestClassifier"
      ],
      "metadata": {
        "id": "3pyYbYRWgwjL"
      },
      "execution_count": 17,
      "outputs": []
    },
    {
      "cell_type": "markdown",
      "source": [
        "Random Forest Classifier"
      ],
      "metadata": {
        "id": "7BBHkqZLzNVK"
      }
    },
    {
      "cell_type": "code",
      "source": [
        "rf = RandomForestClassifier()\n",
        "rf.fit(x_train, y_train)"
      ],
      "metadata": {
        "colab": {
          "base_uri": "https://localhost:8080/"
        },
        "id": "M9Vvro2jn3Le",
        "outputId": "3f60d8d7-0f44-410b-ca10-5b0afac22fdd"
      },
      "execution_count": 18,
      "outputs": [
        {
          "output_type": "stream",
          "name": "stderr",
          "text": [
            "<ipython-input-18-ce55d9827ec2>:2: DataConversionWarning: A column-vector y was passed when a 1d array was expected. Please change the shape of y to (n_samples,), for example using ravel().\n",
            "  rf.fit(x_train, y_train)\n"
          ]
        },
        {
          "output_type": "execute_result",
          "data": {
            "text/plain": [
              "RandomForestClassifier()"
            ]
          },
          "metadata": {},
          "execution_count": 18
        }
      ]
    },
    {
      "cell_type": "code",
      "source": [
        "y_pred2  =  rf.predict(x_test)\n",
        "print(y_pred2)"
      ],
      "metadata": {
        "id": "dfC4TGB2oB_b",
        "colab": {
          "base_uri": "https://localhost:8080/"
        },
        "outputId": "2e8b77e8-e304-4985-8c11-651a51c11738"
      },
      "execution_count": 19,
      "outputs": [
        {
          "output_type": "stream",
          "name": "stdout",
          "text": [
            "[0 1 0 1 0 1 1 0 1 1 0 0 1 1 1 0 0 0 0 0 0 1 1 1 0 1 0 0 1 1 1 1 0 1 1 1 1\n",
            " 1 0 1 1 0 1 0 0 1 1 0 0 1 0 1 0 0 0 1 0 1 1 0 1 0 0 0 0 1 1 0 1 1 1 0 0 0\n",
            " 0 0 1 0 0 0 1 1 0 0 1 0 1 0 0 1 1 0 0 1 0 1 0 1 1 0 0 0 1 0 1 1 0 1 0 0 0\n",
            " 1 1 1 1 1 1 1 1 1 0 0 0 0 0 1 0 1 0 0 1 1 0 0 1 0 1 0 1 0 0 0 1 0 0 1 0 0\n",
            " 1 0 0 1 1 1 1 1 0 0 0 1 1 1 1 0 0 1 1 1 0 0 1 1 1 1 1 1 0 1 1 1 0 1 0 0 1\n",
            " 0 0 0 1 0 1 1 0 1 0 1 1 1 0 1 1 1 1 0 1 0 1 0 1 1 1 1 1 1]\n"
          ]
        }
      ]
    },
    {
      "cell_type": "code",
      "source": [
        "score2=accuracy_score(y_pred2,y_test)\n",
        "print(score2)"
      ],
      "metadata": {
        "colab": {
          "base_uri": "https://localhost:8080/"
        },
        "id": "_8kNLxbNoGu8",
        "outputId": "efdef560-9aac-4c13-9441-a5e49a557254"
      },
      "execution_count": 20,
      "outputs": [
        {
          "output_type": "stream",
          "name": "stdout",
          "text": [
            "0.9953271028037384\n"
          ]
        }
      ]
    },
    {
      "cell_type": "markdown",
      "source": [
        "Logistic Regression"
      ],
      "metadata": {
        "id": "3Wc_fsBRzU9w"
      }
    },
    {
      "cell_type": "code",
      "source": [
        "from sklearn import linear_model\n",
        "logr = linear_model.LogisticRegression()\n",
        "logr.fit(x_train, y_train)\n",
        "logr_pred = logr.predict(x_test)"
      ],
      "metadata": {
        "colab": {
          "base_uri": "https://localhost:8080/"
        },
        "id": "ZQ5SaPkHp3iO",
        "outputId": "63c6ad19-0b4b-4bb6-9033-2315b39f4791"
      },
      "execution_count": 21,
      "outputs": [
        {
          "output_type": "stream",
          "name": "stderr",
          "text": [
            "/usr/local/lib/python3.8/dist-packages/sklearn/utils/validation.py:993: DataConversionWarning: A column-vector y was passed when a 1d array was expected. Please change the shape of y to (n_samples, ), for example using ravel().\n",
            "  y = column_or_1d(y, warn=True)\n",
            "/usr/local/lib/python3.8/dist-packages/sklearn/linear_model/_logistic.py:814: ConvergenceWarning: lbfgs failed to converge (status=1):\n",
            "STOP: TOTAL NO. of ITERATIONS REACHED LIMIT.\n",
            "\n",
            "Increase the number of iterations (max_iter) or scale the data as shown in:\n",
            "    https://scikit-learn.org/stable/modules/preprocessing.html\n",
            "Please also refer to the documentation for alternative solver options:\n",
            "    https://scikit-learn.org/stable/modules/linear_model.html#logistic-regression\n",
            "  n_iter_i = _check_optimize_result(\n"
          ]
        }
      ]
    },
    {
      "cell_type": "code",
      "source": [
        "score3=accuracy_score(logr_pred,y_test)\n",
        "print(score3)"
      ],
      "metadata": {
        "colab": {
          "base_uri": "https://localhost:8080/"
        },
        "id": "i4o3BMi5p8BA",
        "outputId": "6122f5d4-c631-4b7c-9f75-b6e5d9085b4a"
      },
      "execution_count": 22,
      "outputs": [
        {
          "output_type": "stream",
          "name": "stdout",
          "text": [
            "0.9439252336448598\n"
          ]
        }
      ]
    },
    {
      "cell_type": "markdown",
      "source": [
        "Decision tree classifier"
      ],
      "metadata": {
        "id": "uzfrB0Nh0oXZ"
      }
    },
    {
      "cell_type": "code",
      "source": [
        "from sklearn.tree import DecisionTreeClassifier\n",
        "clf = DecisionTreeClassifier()\n",
        "clf = clf.fit(x_train,y_train)\n",
        "y_pred3 = clf.predict(x_test)"
      ],
      "metadata": {
        "id": "WfftpjL9qG7d"
      },
      "execution_count": 23,
      "outputs": []
    },
    {
      "cell_type": "code",
      "source": [
        "score4=accuracy_score(y_pred3,y_test)\n",
        "print(score4)"
      ],
      "metadata": {
        "colab": {
          "base_uri": "https://localhost:8080/"
        },
        "id": "4Wp6LwtAsAW7",
        "outputId": "477d9b5a-5eec-4573-9d85-9ba44d3cd16b"
      },
      "execution_count": 24,
      "outputs": [
        {
          "output_type": "stream",
          "name": "stdout",
          "text": [
            "0.9672897196261683\n"
          ]
        }
      ]
    },
    {
      "cell_type": "markdown",
      "source": [
        "KNN"
      ],
      "metadata": {
        "id": "AUvD8yKh0sgG"
      }
    },
    {
      "cell_type": "code",
      "source": [
        "from sklearn.neighbors import KNeighborsClassifier\n",
        "knn = KNeighborsClassifier(n_neighbors=7)\n",
        "knn.fit(x_train, y_train)"
      ],
      "metadata": {
        "colab": {
          "base_uri": "https://localhost:8080/"
        },
        "id": "Iq47DC4ismgr",
        "outputId": "a66d24f1-7578-4d70-c706-688938653b36"
      },
      "execution_count": 25,
      "outputs": [
        {
          "output_type": "stream",
          "name": "stderr",
          "text": [
            "/usr/local/lib/python3.8/dist-packages/sklearn/neighbors/_classification.py:198: DataConversionWarning: A column-vector y was passed when a 1d array was expected. Please change the shape of y to (n_samples,), for example using ravel().\n",
            "  return self._fit(X, y)\n"
          ]
        },
        {
          "output_type": "execute_result",
          "data": {
            "text/plain": [
              "KNeighborsClassifier(n_neighbors=7)"
            ]
          },
          "metadata": {},
          "execution_count": 25
        }
      ]
    },
    {
      "cell_type": "code",
      "source": [
        "pred4=knn.predict(x_test)"
      ],
      "metadata": {
        "id": "aMuBts1dssf5"
      },
      "execution_count": 26,
      "outputs": []
    },
    {
      "cell_type": "code",
      "source": [
        "score5=accuracy_score(pred4,y_test)\n",
        "print(score5)"
      ],
      "metadata": {
        "id": "ZWDdwReItD2m",
        "colab": {
          "base_uri": "https://localhost:8080/"
        },
        "outputId": "044e0dde-f39c-48bb-8c2e-5bbdaa02f93a"
      },
      "execution_count": 27,
      "outputs": [
        {
          "output_type": "stream",
          "name": "stdout",
          "text": [
            "0.8457943925233645\n"
          ]
        }
      ]
    },
    {
      "cell_type": "markdown",
      "source": [
        "Storing all accuracies in a list"
      ],
      "metadata": {
        "id": "7FCumYAh0vMs"
      }
    },
    {
      "cell_type": "code",
      "source": [
        "simple_sampling=[score,score2,score3,score4,score5]\n",
        "simple_sampling"
      ],
      "metadata": {
        "colab": {
          "base_uri": "https://localhost:8080/"
        },
        "id": "ZGV27yZLv3y6",
        "outputId": "633bf706-ef01-4f4f-f14e-bf7feff1a9d6"
      },
      "execution_count": 28,
      "outputs": [
        {
          "output_type": "execute_result",
          "data": {
            "text/plain": [
              "[0.8457943925233645,\n",
              " 0.9953271028037384,\n",
              " 0.9439252336448598,\n",
              " 0.9672897196261683,\n",
              " 0.8457943925233645]"
            ]
          },
          "metadata": {},
          "execution_count": 28
        }
      ]
    },
    {
      "cell_type": "markdown",
      "source": [
        "### STRATIFIED SAMPLING"
      ],
      "metadata": {
        "id": "_c-hj2xGMY1e"
      }
    },
    {
      "cell_type": "code",
      "source": [
        "strat=x_res.groupby('Class', group_keys=False).apply(lambda x: x.sample(392,replace=True))"
      ],
      "metadata": {
        "id": "7s0CAaDEwXAc"
      },
      "execution_count": 29,
      "outputs": []
    },
    {
      "cell_type": "code",
      "source": [
        "x=strat.iloc[:, strat.columns!= 'Class']\n",
        "y=strat.iloc[:,strat.columns=='Class']"
      ],
      "metadata": {
        "id": "UN-qYuL_xPR5"
      },
      "execution_count": 30,
      "outputs": []
    },
    {
      "cell_type": "code",
      "source": [
        "from sklearn.model_selection import train_test_split\n",
        "x_train, x_test, y_train, y_test = train_test_split(x, y, test_size = 0.20, random_state = 0)"
      ],
      "metadata": {
        "id": "fuNOLnhXxTJm"
      },
      "execution_count": 31,
      "outputs": []
    },
    {
      "cell_type": "markdown",
      "source": [
        "Naive Bayes"
      ],
      "metadata": {
        "id": "QOHS2D-Nx984"
      }
    },
    {
      "cell_type": "code",
      "source": [
        "classifier = GaussianNB()\n",
        "classifier.fit(x_train, y_train)\n",
        "y_pred6  =  classifier.predict(x_test)\n",
        "score6=accuracy_score(y_pred6,y_test)\n",
        "print(score6)"
      ],
      "metadata": {
        "colab": {
          "base_uri": "https://localhost:8080/"
        },
        "id": "o0245YS0xkGj",
        "outputId": "b94c429e-1818-4da5-d002-6cfe4ef71b19"
      },
      "execution_count": 32,
      "outputs": [
        {
          "output_type": "stream",
          "name": "stdout",
          "text": [
            "0.8980891719745223\n"
          ]
        },
        {
          "output_type": "stream",
          "name": "stderr",
          "text": [
            "/usr/local/lib/python3.8/dist-packages/sklearn/utils/validation.py:993: DataConversionWarning: A column-vector y was passed when a 1d array was expected. Please change the shape of y to (n_samples, ), for example using ravel().\n",
            "  y = column_or_1d(y, warn=True)\n"
          ]
        }
      ]
    },
    {
      "cell_type": "markdown",
      "source": [
        "Random forest"
      ],
      "metadata": {
        "id": "ltHjQyrQyAAX"
      }
    },
    {
      "cell_type": "code",
      "source": [
        "rf = RandomForestClassifier()\n",
        "rf.fit(x_train, y_train)\n",
        "y_pred7  =  rf.predict(x_test)\n",
        "score7=accuracy_score(y_pred7,y_test)\n",
        "print(score7)"
      ],
      "metadata": {
        "colab": {
          "base_uri": "https://localhost:8080/"
        },
        "id": "ccSBpWz8yCv6",
        "outputId": "b3394017-5e4d-48d8-fc5b-9692821b7947"
      },
      "execution_count": 33,
      "outputs": [
        {
          "output_type": "stream",
          "name": "stderr",
          "text": [
            "<ipython-input-33-1d3c061d01e8>:2: DataConversionWarning: A column-vector y was passed when a 1d array was expected. Please change the shape of y to (n_samples,), for example using ravel().\n",
            "  rf.fit(x_train, y_train)\n"
          ]
        },
        {
          "output_type": "stream",
          "name": "stdout",
          "text": [
            "0.9936305732484076\n"
          ]
        }
      ]
    },
    {
      "cell_type": "markdown",
      "source": [
        "Logistic regression"
      ],
      "metadata": {
        "id": "kccgSBLDMdBu"
      }
    },
    {
      "cell_type": "code",
      "source": [
        "logr = linear_model.LogisticRegression()\n",
        "logr.fit(x_train, y_train)\n",
        "pred8 = logr.predict(x_test)\n",
        "score8=accuracy_score(pred8,y_test)\n",
        "print(score8)"
      ],
      "metadata": {
        "colab": {
          "base_uri": "https://localhost:8080/"
        },
        "id": "hV4nH2GBy5SH",
        "outputId": "9ceea65a-82f3-4099-df47-e1e2964f27f5"
      },
      "execution_count": 34,
      "outputs": [
        {
          "output_type": "stream",
          "name": "stdout",
          "text": [
            "0.9490445859872612\n"
          ]
        },
        {
          "output_type": "stream",
          "name": "stderr",
          "text": [
            "/usr/local/lib/python3.8/dist-packages/sklearn/utils/validation.py:993: DataConversionWarning: A column-vector y was passed when a 1d array was expected. Please change the shape of y to (n_samples, ), for example using ravel().\n",
            "  y = column_or_1d(y, warn=True)\n",
            "/usr/local/lib/python3.8/dist-packages/sklearn/linear_model/_logistic.py:814: ConvergenceWarning: lbfgs failed to converge (status=1):\n",
            "STOP: TOTAL NO. of ITERATIONS REACHED LIMIT.\n",
            "\n",
            "Increase the number of iterations (max_iter) or scale the data as shown in:\n",
            "    https://scikit-learn.org/stable/modules/preprocessing.html\n",
            "Please also refer to the documentation for alternative solver options:\n",
            "    https://scikit-learn.org/stable/modules/linear_model.html#logistic-regression\n",
            "  n_iter_i = _check_optimize_result(\n"
          ]
        }
      ]
    },
    {
      "cell_type": "markdown",
      "source": [
        "Decision Tree Classifier"
      ],
      "metadata": {
        "id": "Dt43xuJgMfSq"
      }
    },
    {
      "cell_type": "code",
      "source": [
        "clf = DecisionTreeClassifier()\n",
        "clf = clf.fit(x_train,y_train)\n",
        "y_pred9 = clf.predict(x_test)\n",
        "score9=accuracy_score(y_pred9,y_test)\n",
        "print(score9)"
      ],
      "metadata": {
        "colab": {
          "base_uri": "https://localhost:8080/"
        },
        "id": "-8CbyrrozNyF",
        "outputId": "18986380-7989-4eac-c7a3-8ce1213abe64"
      },
      "execution_count": 35,
      "outputs": [
        {
          "output_type": "stream",
          "name": "stdout",
          "text": [
            "0.9872611464968153\n"
          ]
        }
      ]
    },
    {
      "cell_type": "markdown",
      "source": [
        "KNN"
      ],
      "metadata": {
        "id": "IkhqM8dBMiS_"
      }
    },
    {
      "cell_type": "code",
      "source": [
        "knn = KNeighborsClassifier(n_neighbors=7)\n",
        "knn.fit(x_train, y_train)\n",
        "pred10=knn.predict(x_test)\n",
        "score10=accuracy_score(pred10,y_test)\n",
        "print(score10)"
      ],
      "metadata": {
        "colab": {
          "base_uri": "https://localhost:8080/"
        },
        "id": "zlXJkQqNzhSC",
        "outputId": "9cb2805d-f37b-4956-ffeb-496ac11f403f"
      },
      "execution_count": 36,
      "outputs": [
        {
          "output_type": "stream",
          "name": "stdout",
          "text": [
            "0.7770700636942676\n"
          ]
        },
        {
          "output_type": "stream",
          "name": "stderr",
          "text": [
            "/usr/local/lib/python3.8/dist-packages/sklearn/neighbors/_classification.py:198: DataConversionWarning: A column-vector y was passed when a 1d array was expected. Please change the shape of y to (n_samples,), for example using ravel().\n",
            "  return self._fit(X, y)\n"
          ]
        }
      ]
    },
    {
      "cell_type": "code",
      "source": [
        "stratified_sampling=[score6,score7,score8,score9,score10]\n",
        "stratified_sampling"
      ],
      "metadata": {
        "colab": {
          "base_uri": "https://localhost:8080/"
        },
        "id": "X76zwEDCzzBK",
        "outputId": "d1d8785a-a35c-40f1-a8ce-897d962b7f4d"
      },
      "execution_count": 37,
      "outputs": [
        {
          "output_type": "execute_result",
          "data": {
            "text/plain": [
              "[0.8980891719745223,\n",
              " 0.9936305732484076,\n",
              " 0.9490445859872612,\n",
              " 0.9872611464968153,\n",
              " 0.7770700636942676]"
            ]
          },
          "metadata": {},
          "execution_count": 37
        }
      ]
    },
    {
      "cell_type": "markdown",
      "source": [
        "### SYSTEMATIC SAMPLING"
      ],
      "metadata": {
        "id": "O9MRTxWzMk9Y"
      }
    },
    {
      "cell_type": "code",
      "source": [
        "def systematic_sampling(df, step):\n",
        "    indexes = np.arange(0, len(df), step=step)\n",
        "    systematic_sample = df.iloc[indexes]\n",
        "    return systematic_sample\n",
        "data = systematic_sampling(x_res, 2)"
      ],
      "metadata": {
        "id": "dAjsMZKbOgRh"
      },
      "execution_count": 38,
      "outputs": []
    },
    {
      "cell_type": "code",
      "source": [
        "x = data.iloc[:,data.columns!='Class']\n",
        "y = data.iloc[:,data.columns=='Class']"
      ],
      "metadata": {
        "id": "tZwgDX5rPE88"
      },
      "execution_count": 39,
      "outputs": []
    },
    {
      "cell_type": "code",
      "source": [
        "from sklearn.model_selection import train_test_split\n",
        "x_train, x_test, y_train, y_test = train_test_split(x, y, test_size = 0.20, random_state = 0)"
      ],
      "metadata": {
        "id": "IqL-KEEuPU_o"
      },
      "execution_count": 40,
      "outputs": []
    },
    {
      "cell_type": "markdown",
      "source": [
        "Naive Bayes"
      ],
      "metadata": {
        "id": "jZyRO6KIPlHF"
      }
    },
    {
      "cell_type": "code",
      "source": [
        "classifier = GaussianNB()\n",
        "classifier.fit(x_train, y_train)\n",
        "y_pred11  =  classifier.predict(x_test)\n",
        "score11=accuracy_score(y_pred11,y_test)\n",
        "print(score11)"
      ],
      "metadata": {
        "colab": {
          "base_uri": "https://localhost:8080/"
        },
        "id": "TwDhlgggPgii",
        "outputId": "20819968-88e1-453d-c8f1-a1a3084c394e"
      },
      "execution_count": 41,
      "outputs": [
        {
          "output_type": "stream",
          "name": "stderr",
          "text": [
            "/usr/local/lib/python3.8/dist-packages/sklearn/utils/validation.py:993: DataConversionWarning: A column-vector y was passed when a 1d array was expected. Please change the shape of y to (n_samples, ), for example using ravel().\n",
            "  y = column_or_1d(y, warn=True)\n"
          ]
        },
        {
          "output_type": "stream",
          "name": "stdout",
          "text": [
            "0.7843137254901961\n"
          ]
        }
      ]
    },
    {
      "cell_type": "markdown",
      "source": [
        "Random forest"
      ],
      "metadata": {
        "id": "_RGjlbehP0Fc"
      }
    },
    {
      "cell_type": "code",
      "source": [
        "rf = RandomForestClassifier()\n",
        "rf.fit(x_train, y_train)\n",
        "y_pred12  =  rf.predict(x_test)\n",
        "score12=accuracy_score(y_pred12,y_test)\n",
        "print(score12)"
      ],
      "metadata": {
        "colab": {
          "base_uri": "https://localhost:8080/"
        },
        "id": "S0vQ26ebPriz",
        "outputId": "3b0c121c-4799-4444-fd15-3ab1f5284892"
      },
      "execution_count": 42,
      "outputs": [
        {
          "output_type": "stream",
          "name": "stderr",
          "text": [
            "<ipython-input-42-68eeb7eca8f7>:2: DataConversionWarning: A column-vector y was passed when a 1d array was expected. Please change the shape of y to (n_samples,), for example using ravel().\n",
            "  rf.fit(x_train, y_train)\n"
          ]
        },
        {
          "output_type": "stream",
          "name": "stdout",
          "text": [
            "0.9934640522875817\n"
          ]
        }
      ]
    },
    {
      "cell_type": "markdown",
      "source": [
        "Logistic regression"
      ],
      "metadata": {
        "id": "8YeXzlXxQIEa"
      }
    },
    {
      "cell_type": "code",
      "source": [
        "logr = linear_model.LogisticRegression()\n",
        "logr.fit(x_train, y_train)\n",
        "pred13 = logr.predict(x_test)\n",
        "score13=accuracy_score(pred13,y_test)\n",
        "print(score13)"
      ],
      "metadata": {
        "colab": {
          "base_uri": "https://localhost:8080/"
        },
        "id": "d8HsdNE4P2A6",
        "outputId": "0f2cca42-bb1f-47c0-e492-515db742c36d"
      },
      "execution_count": 43,
      "outputs": [
        {
          "output_type": "stream",
          "name": "stdout",
          "text": [
            "0.8823529411764706\n"
          ]
        },
        {
          "output_type": "stream",
          "name": "stderr",
          "text": [
            "/usr/local/lib/python3.8/dist-packages/sklearn/utils/validation.py:993: DataConversionWarning: A column-vector y was passed when a 1d array was expected. Please change the shape of y to (n_samples, ), for example using ravel().\n",
            "  y = column_or_1d(y, warn=True)\n",
            "/usr/local/lib/python3.8/dist-packages/sklearn/linear_model/_logistic.py:814: ConvergenceWarning: lbfgs failed to converge (status=1):\n",
            "STOP: TOTAL NO. of ITERATIONS REACHED LIMIT.\n",
            "\n",
            "Increase the number of iterations (max_iter) or scale the data as shown in:\n",
            "    https://scikit-learn.org/stable/modules/preprocessing.html\n",
            "Please also refer to the documentation for alternative solver options:\n",
            "    https://scikit-learn.org/stable/modules/linear_model.html#logistic-regression\n",
            "  n_iter_i = _check_optimize_result(\n"
          ]
        }
      ]
    },
    {
      "cell_type": "markdown",
      "source": [
        "Decision Tree Classifier"
      ],
      "metadata": {
        "id": "sBwXs-7yQKhZ"
      }
    },
    {
      "cell_type": "code",
      "source": [
        "clf = DecisionTreeClassifier()\n",
        "clf = clf.fit(x_train,y_train)\n",
        "y_pred14 = clf.predict(x_test)\n",
        "score14=accuracy_score(y_pred14,y_test)\n",
        "print(score14)"
      ],
      "metadata": {
        "colab": {
          "base_uri": "https://localhost:8080/"
        },
        "id": "xkyXTf_VQNKs",
        "outputId": "3b462a33-69cd-41ec-e4cb-8925febe342d"
      },
      "execution_count": 44,
      "outputs": [
        {
          "output_type": "stream",
          "name": "stdout",
          "text": [
            "0.9607843137254902\n"
          ]
        }
      ]
    },
    {
      "cell_type": "markdown",
      "source": [
        "KNN"
      ],
      "metadata": {
        "id": "wNu9ioVjQUdM"
      }
    },
    {
      "cell_type": "code",
      "source": [
        "knn = KNeighborsClassifier(n_neighbors=7)\n",
        "knn.fit(x_train, y_train)\n",
        "pred15=knn.predict(x_test)\n",
        "score15=accuracy_score(pred15,y_test)\n",
        "print(score15)"
      ],
      "metadata": {
        "colab": {
          "base_uri": "https://localhost:8080/"
        },
        "id": "iWCF091zQVI-",
        "outputId": "4ac30765-081e-4590-a578-b0439e6c4cee"
      },
      "execution_count": 45,
      "outputs": [
        {
          "output_type": "stream",
          "name": "stdout",
          "text": [
            "0.8300653594771242\n"
          ]
        },
        {
          "output_type": "stream",
          "name": "stderr",
          "text": [
            "/usr/local/lib/python3.8/dist-packages/sklearn/neighbors/_classification.py:198: DataConversionWarning: A column-vector y was passed when a 1d array was expected. Please change the shape of y to (n_samples,), for example using ravel().\n",
            "  return self._fit(X, y)\n"
          ]
        }
      ]
    },
    {
      "cell_type": "code",
      "source": [
        "systematic_sampling=[score11,score12,score13,score14,score15]\n",
        "systematic_sampling"
      ],
      "metadata": {
        "colab": {
          "base_uri": "https://localhost:8080/"
        },
        "id": "H_AW9omLRAOF",
        "outputId": "ee567aae-3520-42b0-a70f-7d497201d6fb"
      },
      "execution_count": 46,
      "outputs": [
        {
          "output_type": "execute_result",
          "data": {
            "text/plain": [
              "[0.7843137254901961,\n",
              " 0.9934640522875817,\n",
              " 0.8823529411764706,\n",
              " 0.9607843137254902,\n",
              " 0.8300653594771242]"
            ]
          },
          "metadata": {},
          "execution_count": 46
        }
      ]
    },
    {
      "cell_type": "markdown",
      "source": [
        "### CLUSTER SAMPLING"
      ],
      "metadata": {
        "id": "WSdS8EsCUTl9"
      }
    },
    {
      "cell_type": "code",
      "source": [
        "def get_clustered_Sample(df, n_per_cluster, num_select_clusters):\n",
        "    N = len(df)\n",
        "    K = int(N/n_per_cluster)\n",
        "    data = None\n",
        "    for k in range(K):\n",
        "        sample_k = df.sample(n_per_cluster)\n",
        "        sample_k[\"cluster\"] = np.repeat(k,len(sample_k))\n",
        "        df = df.drop(index = sample_k.index)\n",
        "        data = pd.concat([data,sample_k],axis = 0)\n",
        "    random_chosen_clusters = np.random.randint(0,K,size = num_select_clusters)\n",
        "    samples = data[data.cluster.isin(random_chosen_clusters)]\n",
        "    return(samples)\n",
        "cluster_data = get_clustered_Sample(df = x_res, n_per_cluster = 109, num_select_clusters = 7)\n",
        "cluster_data"
      ],
      "metadata": {
        "colab": {
          "base_uri": "https://localhost:8080/",
          "height": 488
        },
        "id": "hTiM_MsiRK_6",
        "outputId": "ed14b47e-63ca-42b2-9cb1-a1315a4d9968"
      },
      "execution_count": 47,
      "outputs": [
        {
          "output_type": "execute_result",
          "data": {
            "text/plain": [
              "      Time        V1        V2        V3        V4        V5        V6  \\\n",
              "1460   518 -1.753519 -1.828918  2.299909  0.919518  2.117489  0.249824   \n",
              "1218   508 -1.503269 -1.153713  2.130501  0.696125  1.768504 -0.099079   \n",
              "1275   565  0.548782  0.290919  0.515166  0.371864 -0.055314 -0.883949   \n",
              "373    272  0.867479 -1.102252  0.608959  0.826675 -1.246214  0.072492   \n",
              "308    222 -0.352704  0.975517  1.603365 -0.282475  0.480561 -0.222647   \n",
              "...    ...       ...       ...       ...       ...       ...       ...   \n",
              "697    528  1.358535 -0.443057  0.700476 -0.734666 -1.138176 -0.830189   \n",
              "999    491 -1.104902 -0.078872  1.860826  0.340511  1.212963 -0.654487   \n",
              "958    441 -1.554701  1.615185 -1.203121  3.296119 -0.487304 -1.350354   \n",
              "1337   136  0.771206  0.432479  0.363658  0.456402  0.117560 -0.529097   \n",
              "387    283  0.948032  0.318725  0.730591  2.583975 -0.206465 -0.213180   \n",
              "\n",
              "            V7        V8        V9  ...       V22       V23       V24  \\\n",
              "1460 -1.421613  0.570678  0.705208  ...  0.984848  0.169806 -0.570894   \n",
              "1218 -0.724119  0.350189  0.448320  ...  0.771573  0.040116 -0.280975   \n",
              "1275  0.135633 -0.127269  0.016587  ... -0.671923  0.035496  0.205754   \n",
              "373  -0.509153  0.087330 -0.464954  ... -0.556613 -0.110148  0.025722   \n",
              "308   0.850194 -0.265018 -0.283460  ... -0.062304 -0.231531 -0.412572   \n",
              "...        ...       ...       ...  ...       ...       ...       ...   \n",
              "697  -0.637162 -0.074408 -1.078981  ... -0.219789  0.147941  0.517099   \n",
              "999   0.386202 -0.000803  0.039387  ...  0.432067 -0.166334  0.180541   \n",
              "958  -1.978962  1.051729 -2.179222  ... -0.201752 -0.339406  0.325064   \n",
              "1337  0.172572 -0.062674 -0.029620  ... -0.648131  0.137471 -0.357994   \n",
              "387   0.220329 -0.062070 -0.868018  ... -0.069830  0.004094  0.396459   \n",
              "\n",
              "           V25       V26       V27       V28      Amount  Class  cluster  \n",
              "1460 -0.078706  0.558135 -0.119975 -0.160626    1.384824      1        0  \n",
              "1218  0.063733  0.251325 -0.115268 -0.150057    1.268155      1        0  \n",
              "1275  0.089530  0.128919 -0.098598 -0.067130    1.221385      1        0  \n",
              "373   0.263809 -0.324195  0.042550  0.063652  208.380000      0        0  \n",
              "308  -0.180927  0.201127  0.178832 -0.034650    7.810000      0        0  \n",
              "...        ...       ...       ...       ...         ...    ...      ...  \n",
              "697   0.186110 -0.510075  0.009997  0.014218    3.710000      0        9  \n",
              "999   0.290477 -0.237077 -0.107774 -0.133233    1.082433      1        9  \n",
              "958   0.081993  0.160132  0.201023 -0.106307    0.273732      1        9  \n",
              "1337 -0.441201  0.086805  0.081093  0.112483    1.993969      1        9  \n",
              "387   0.295033 -0.076226 -0.004448  0.041688   94.500000      0        9  \n",
              "\n",
              "[763 rows x 32 columns]"
            ],
            "text/html": [
              "\n",
              "  <div id=\"df-6a7e4adf-dc62-4cf2-9f79-2e3bfd1cba7a\">\n",
              "    <div class=\"colab-df-container\">\n",
              "      <div>\n",
              "<style scoped>\n",
              "    .dataframe tbody tr th:only-of-type {\n",
              "        vertical-align: middle;\n",
              "    }\n",
              "\n",
              "    .dataframe tbody tr th {\n",
              "        vertical-align: top;\n",
              "    }\n",
              "\n",
              "    .dataframe thead th {\n",
              "        text-align: right;\n",
              "    }\n",
              "</style>\n",
              "<table border=\"1\" class=\"dataframe\">\n",
              "  <thead>\n",
              "    <tr style=\"text-align: right;\">\n",
              "      <th></th>\n",
              "      <th>Time</th>\n",
              "      <th>V1</th>\n",
              "      <th>V2</th>\n",
              "      <th>V3</th>\n",
              "      <th>V4</th>\n",
              "      <th>V5</th>\n",
              "      <th>V6</th>\n",
              "      <th>V7</th>\n",
              "      <th>V8</th>\n",
              "      <th>V9</th>\n",
              "      <th>...</th>\n",
              "      <th>V22</th>\n",
              "      <th>V23</th>\n",
              "      <th>V24</th>\n",
              "      <th>V25</th>\n",
              "      <th>V26</th>\n",
              "      <th>V27</th>\n",
              "      <th>V28</th>\n",
              "      <th>Amount</th>\n",
              "      <th>Class</th>\n",
              "      <th>cluster</th>\n",
              "    </tr>\n",
              "  </thead>\n",
              "  <tbody>\n",
              "    <tr>\n",
              "      <th>1460</th>\n",
              "      <td>518</td>\n",
              "      <td>-1.753519</td>\n",
              "      <td>-1.828918</td>\n",
              "      <td>2.299909</td>\n",
              "      <td>0.919518</td>\n",
              "      <td>2.117489</td>\n",
              "      <td>0.249824</td>\n",
              "      <td>-1.421613</td>\n",
              "      <td>0.570678</td>\n",
              "      <td>0.705208</td>\n",
              "      <td>...</td>\n",
              "      <td>0.984848</td>\n",
              "      <td>0.169806</td>\n",
              "      <td>-0.570894</td>\n",
              "      <td>-0.078706</td>\n",
              "      <td>0.558135</td>\n",
              "      <td>-0.119975</td>\n",
              "      <td>-0.160626</td>\n",
              "      <td>1.384824</td>\n",
              "      <td>1</td>\n",
              "      <td>0</td>\n",
              "    </tr>\n",
              "    <tr>\n",
              "      <th>1218</th>\n",
              "      <td>508</td>\n",
              "      <td>-1.503269</td>\n",
              "      <td>-1.153713</td>\n",
              "      <td>2.130501</td>\n",
              "      <td>0.696125</td>\n",
              "      <td>1.768504</td>\n",
              "      <td>-0.099079</td>\n",
              "      <td>-0.724119</td>\n",
              "      <td>0.350189</td>\n",
              "      <td>0.448320</td>\n",
              "      <td>...</td>\n",
              "      <td>0.771573</td>\n",
              "      <td>0.040116</td>\n",
              "      <td>-0.280975</td>\n",
              "      <td>0.063733</td>\n",
              "      <td>0.251325</td>\n",
              "      <td>-0.115268</td>\n",
              "      <td>-0.150057</td>\n",
              "      <td>1.268155</td>\n",
              "      <td>1</td>\n",
              "      <td>0</td>\n",
              "    </tr>\n",
              "    <tr>\n",
              "      <th>1275</th>\n",
              "      <td>565</td>\n",
              "      <td>0.548782</td>\n",
              "      <td>0.290919</td>\n",
              "      <td>0.515166</td>\n",
              "      <td>0.371864</td>\n",
              "      <td>-0.055314</td>\n",
              "      <td>-0.883949</td>\n",
              "      <td>0.135633</td>\n",
              "      <td>-0.127269</td>\n",
              "      <td>0.016587</td>\n",
              "      <td>...</td>\n",
              "      <td>-0.671923</td>\n",
              "      <td>0.035496</td>\n",
              "      <td>0.205754</td>\n",
              "      <td>0.089530</td>\n",
              "      <td>0.128919</td>\n",
              "      <td>-0.098598</td>\n",
              "      <td>-0.067130</td>\n",
              "      <td>1.221385</td>\n",
              "      <td>1</td>\n",
              "      <td>0</td>\n",
              "    </tr>\n",
              "    <tr>\n",
              "      <th>373</th>\n",
              "      <td>272</td>\n",
              "      <td>0.867479</td>\n",
              "      <td>-1.102252</td>\n",
              "      <td>0.608959</td>\n",
              "      <td>0.826675</td>\n",
              "      <td>-1.246214</td>\n",
              "      <td>0.072492</td>\n",
              "      <td>-0.509153</td>\n",
              "      <td>0.087330</td>\n",
              "      <td>-0.464954</td>\n",
              "      <td>...</td>\n",
              "      <td>-0.556613</td>\n",
              "      <td>-0.110148</td>\n",
              "      <td>0.025722</td>\n",
              "      <td>0.263809</td>\n",
              "      <td>-0.324195</td>\n",
              "      <td>0.042550</td>\n",
              "      <td>0.063652</td>\n",
              "      <td>208.380000</td>\n",
              "      <td>0</td>\n",
              "      <td>0</td>\n",
              "    </tr>\n",
              "    <tr>\n",
              "      <th>308</th>\n",
              "      <td>222</td>\n",
              "      <td>-0.352704</td>\n",
              "      <td>0.975517</td>\n",
              "      <td>1.603365</td>\n",
              "      <td>-0.282475</td>\n",
              "      <td>0.480561</td>\n",
              "      <td>-0.222647</td>\n",
              "      <td>0.850194</td>\n",
              "      <td>-0.265018</td>\n",
              "      <td>-0.283460</td>\n",
              "      <td>...</td>\n",
              "      <td>-0.062304</td>\n",
              "      <td>-0.231531</td>\n",
              "      <td>-0.412572</td>\n",
              "      <td>-0.180927</td>\n",
              "      <td>0.201127</td>\n",
              "      <td>0.178832</td>\n",
              "      <td>-0.034650</td>\n",
              "      <td>7.810000</td>\n",
              "      <td>0</td>\n",
              "      <td>0</td>\n",
              "    </tr>\n",
              "    <tr>\n",
              "      <th>...</th>\n",
              "      <td>...</td>\n",
              "      <td>...</td>\n",
              "      <td>...</td>\n",
              "      <td>...</td>\n",
              "      <td>...</td>\n",
              "      <td>...</td>\n",
              "      <td>...</td>\n",
              "      <td>...</td>\n",
              "      <td>...</td>\n",
              "      <td>...</td>\n",
              "      <td>...</td>\n",
              "      <td>...</td>\n",
              "      <td>...</td>\n",
              "      <td>...</td>\n",
              "      <td>...</td>\n",
              "      <td>...</td>\n",
              "      <td>...</td>\n",
              "      <td>...</td>\n",
              "      <td>...</td>\n",
              "      <td>...</td>\n",
              "      <td>...</td>\n",
              "    </tr>\n",
              "    <tr>\n",
              "      <th>697</th>\n",
              "      <td>528</td>\n",
              "      <td>1.358535</td>\n",
              "      <td>-0.443057</td>\n",
              "      <td>0.700476</td>\n",
              "      <td>-0.734666</td>\n",
              "      <td>-1.138176</td>\n",
              "      <td>-0.830189</td>\n",
              "      <td>-0.637162</td>\n",
              "      <td>-0.074408</td>\n",
              "      <td>-1.078981</td>\n",
              "      <td>...</td>\n",
              "      <td>-0.219789</td>\n",
              "      <td>0.147941</td>\n",
              "      <td>0.517099</td>\n",
              "      <td>0.186110</td>\n",
              "      <td>-0.510075</td>\n",
              "      <td>0.009997</td>\n",
              "      <td>0.014218</td>\n",
              "      <td>3.710000</td>\n",
              "      <td>0</td>\n",
              "      <td>9</td>\n",
              "    </tr>\n",
              "    <tr>\n",
              "      <th>999</th>\n",
              "      <td>491</td>\n",
              "      <td>-1.104902</td>\n",
              "      <td>-0.078872</td>\n",
              "      <td>1.860826</td>\n",
              "      <td>0.340511</td>\n",
              "      <td>1.212963</td>\n",
              "      <td>-0.654487</td>\n",
              "      <td>0.386202</td>\n",
              "      <td>-0.000803</td>\n",
              "      <td>0.039387</td>\n",
              "      <td>...</td>\n",
              "      <td>0.432067</td>\n",
              "      <td>-0.166334</td>\n",
              "      <td>0.180541</td>\n",
              "      <td>0.290477</td>\n",
              "      <td>-0.237077</td>\n",
              "      <td>-0.107774</td>\n",
              "      <td>-0.133233</td>\n",
              "      <td>1.082433</td>\n",
              "      <td>1</td>\n",
              "      <td>9</td>\n",
              "    </tr>\n",
              "    <tr>\n",
              "      <th>958</th>\n",
              "      <td>441</td>\n",
              "      <td>-1.554701</td>\n",
              "      <td>1.615185</td>\n",
              "      <td>-1.203121</td>\n",
              "      <td>3.296119</td>\n",
              "      <td>-0.487304</td>\n",
              "      <td>-1.350354</td>\n",
              "      <td>-1.978962</td>\n",
              "      <td>1.051729</td>\n",
              "      <td>-2.179222</td>\n",
              "      <td>...</td>\n",
              "      <td>-0.201752</td>\n",
              "      <td>-0.339406</td>\n",
              "      <td>0.325064</td>\n",
              "      <td>0.081993</td>\n",
              "      <td>0.160132</td>\n",
              "      <td>0.201023</td>\n",
              "      <td>-0.106307</td>\n",
              "      <td>0.273732</td>\n",
              "      <td>1</td>\n",
              "      <td>9</td>\n",
              "    </tr>\n",
              "    <tr>\n",
              "      <th>1337</th>\n",
              "      <td>136</td>\n",
              "      <td>0.771206</td>\n",
              "      <td>0.432479</td>\n",
              "      <td>0.363658</td>\n",
              "      <td>0.456402</td>\n",
              "      <td>0.117560</td>\n",
              "      <td>-0.529097</td>\n",
              "      <td>0.172572</td>\n",
              "      <td>-0.062674</td>\n",
              "      <td>-0.029620</td>\n",
              "      <td>...</td>\n",
              "      <td>-0.648131</td>\n",
              "      <td>0.137471</td>\n",
              "      <td>-0.357994</td>\n",
              "      <td>-0.441201</td>\n",
              "      <td>0.086805</td>\n",
              "      <td>0.081093</td>\n",
              "      <td>0.112483</td>\n",
              "      <td>1.993969</td>\n",
              "      <td>1</td>\n",
              "      <td>9</td>\n",
              "    </tr>\n",
              "    <tr>\n",
              "      <th>387</th>\n",
              "      <td>283</td>\n",
              "      <td>0.948032</td>\n",
              "      <td>0.318725</td>\n",
              "      <td>0.730591</td>\n",
              "      <td>2.583975</td>\n",
              "      <td>-0.206465</td>\n",
              "      <td>-0.213180</td>\n",
              "      <td>0.220329</td>\n",
              "      <td>-0.062070</td>\n",
              "      <td>-0.868018</td>\n",
              "      <td>...</td>\n",
              "      <td>-0.069830</td>\n",
              "      <td>0.004094</td>\n",
              "      <td>0.396459</td>\n",
              "      <td>0.295033</td>\n",
              "      <td>-0.076226</td>\n",
              "      <td>-0.004448</td>\n",
              "      <td>0.041688</td>\n",
              "      <td>94.500000</td>\n",
              "      <td>0</td>\n",
              "      <td>9</td>\n",
              "    </tr>\n",
              "  </tbody>\n",
              "</table>\n",
              "<p>763 rows × 32 columns</p>\n",
              "</div>\n",
              "      <button class=\"colab-df-convert\" onclick=\"convertToInteractive('df-6a7e4adf-dc62-4cf2-9f79-2e3bfd1cba7a')\"\n",
              "              title=\"Convert this dataframe to an interactive table.\"\n",
              "              style=\"display:none;\">\n",
              "        \n",
              "  <svg xmlns=\"http://www.w3.org/2000/svg\" height=\"24px\"viewBox=\"0 0 24 24\"\n",
              "       width=\"24px\">\n",
              "    <path d=\"M0 0h24v24H0V0z\" fill=\"none\"/>\n",
              "    <path d=\"M18.56 5.44l.94 2.06.94-2.06 2.06-.94-2.06-.94-.94-2.06-.94 2.06-2.06.94zm-11 1L8.5 8.5l.94-2.06 2.06-.94-2.06-.94L8.5 2.5l-.94 2.06-2.06.94zm10 10l.94 2.06.94-2.06 2.06-.94-2.06-.94-.94-2.06-.94 2.06-2.06.94z\"/><path d=\"M17.41 7.96l-1.37-1.37c-.4-.4-.92-.59-1.43-.59-.52 0-1.04.2-1.43.59L10.3 9.45l-7.72 7.72c-.78.78-.78 2.05 0 2.83L4 21.41c.39.39.9.59 1.41.59.51 0 1.02-.2 1.41-.59l7.78-7.78 2.81-2.81c.8-.78.8-2.07 0-2.86zM5.41 20L4 18.59l7.72-7.72 1.47 1.35L5.41 20z\"/>\n",
              "  </svg>\n",
              "      </button>\n",
              "      \n",
              "  <style>\n",
              "    .colab-df-container {\n",
              "      display:flex;\n",
              "      flex-wrap:wrap;\n",
              "      gap: 12px;\n",
              "    }\n",
              "\n",
              "    .colab-df-convert {\n",
              "      background-color: #E8F0FE;\n",
              "      border: none;\n",
              "      border-radius: 50%;\n",
              "      cursor: pointer;\n",
              "      display: none;\n",
              "      fill: #1967D2;\n",
              "      height: 32px;\n",
              "      padding: 0 0 0 0;\n",
              "      width: 32px;\n",
              "    }\n",
              "\n",
              "    .colab-df-convert:hover {\n",
              "      background-color: #E2EBFA;\n",
              "      box-shadow: 0px 1px 2px rgba(60, 64, 67, 0.3), 0px 1px 3px 1px rgba(60, 64, 67, 0.15);\n",
              "      fill: #174EA6;\n",
              "    }\n",
              "\n",
              "    [theme=dark] .colab-df-convert {\n",
              "      background-color: #3B4455;\n",
              "      fill: #D2E3FC;\n",
              "    }\n",
              "\n",
              "    [theme=dark] .colab-df-convert:hover {\n",
              "      background-color: #434B5C;\n",
              "      box-shadow: 0px 1px 3px 1px rgba(0, 0, 0, 0.15);\n",
              "      filter: drop-shadow(0px 1px 2px rgba(0, 0, 0, 0.3));\n",
              "      fill: #FFFFFF;\n",
              "    }\n",
              "  </style>\n",
              "\n",
              "      <script>\n",
              "        const buttonEl =\n",
              "          document.querySelector('#df-6a7e4adf-dc62-4cf2-9f79-2e3bfd1cba7a button.colab-df-convert');\n",
              "        buttonEl.style.display =\n",
              "          google.colab.kernel.accessAllowed ? 'block' : 'none';\n",
              "\n",
              "        async function convertToInteractive(key) {\n",
              "          const element = document.querySelector('#df-6a7e4adf-dc62-4cf2-9f79-2e3bfd1cba7a');\n",
              "          const dataTable =\n",
              "            await google.colab.kernel.invokeFunction('convertToInteractive',\n",
              "                                                     [key], {});\n",
              "          if (!dataTable) return;\n",
              "\n",
              "          const docLinkHtml = 'Like what you see? Visit the ' +\n",
              "            '<a target=\"_blank\" href=https://colab.research.google.com/notebooks/data_table.ipynb>data table notebook</a>'\n",
              "            + ' to learn more about interactive tables.';\n",
              "          element.innerHTML = '';\n",
              "          dataTable['output_type'] = 'display_data';\n",
              "          await google.colab.output.renderOutput(dataTable, element);\n",
              "          const docLink = document.createElement('div');\n",
              "          docLink.innerHTML = docLinkHtml;\n",
              "          element.appendChild(docLink);\n",
              "        }\n",
              "      </script>\n",
              "    </div>\n",
              "  </div>\n",
              "  "
            ]
          },
          "metadata": {},
          "execution_count": 47
        }
      ]
    },
    {
      "cell_type": "code",
      "source": [
        "x = cluster_data.iloc[:,cluster_data.columns!='Class']\n",
        "y = cluster_data.iloc[:,cluster_data.columns=='Class']"
      ],
      "metadata": {
        "id": "oq1056_VU6dC"
      },
      "execution_count": 48,
      "outputs": []
    },
    {
      "cell_type": "code",
      "source": [
        "from sklearn.model_selection import train_test_split\n",
        "x_train, x_test, y_train, y_test = train_test_split(x, y, test_size = 0.20, random_state = 0)"
      ],
      "metadata": {
        "id": "D3etMeK_Xdxo"
      },
      "execution_count": 49,
      "outputs": []
    },
    {
      "cell_type": "markdown",
      "source": [
        "Naive Bayes"
      ],
      "metadata": {
        "id": "9DkS2RUEXpvK"
      }
    },
    {
      "cell_type": "code",
      "source": [
        "classifier = GaussianNB()\n",
        "classifier.fit(x_train, y_train)\n",
        "y_pred16  =  classifier.predict(x_test)\n",
        "score16=accuracy_score(y_pred16,y_test)\n",
        "print(score16)"
      ],
      "metadata": {
        "colab": {
          "base_uri": "https://localhost:8080/"
        },
        "id": "ehtfo1R2XrMk",
        "outputId": "f9b59955-811e-4189-8cd5-9489816ff7da"
      },
      "execution_count": 50,
      "outputs": [
        {
          "output_type": "stream",
          "name": "stdout",
          "text": [
            "0.803921568627451\n"
          ]
        },
        {
          "output_type": "stream",
          "name": "stderr",
          "text": [
            "/usr/local/lib/python3.8/dist-packages/sklearn/utils/validation.py:993: DataConversionWarning: A column-vector y was passed when a 1d array was expected. Please change the shape of y to (n_samples, ), for example using ravel().\n",
            "  y = column_or_1d(y, warn=True)\n"
          ]
        }
      ]
    },
    {
      "cell_type": "markdown",
      "source": [
        "Random Forest"
      ],
      "metadata": {
        "id": "JpLMQfNvXyeb"
      }
    },
    {
      "cell_type": "code",
      "source": [
        "rf = RandomForestClassifier()\n",
        "rf.fit(x_train, y_train)\n",
        "y_pred17  =  rf.predict(x_test)\n",
        "score17=accuracy_score(y_pred17,y_test)\n",
        "print(score17)"
      ],
      "metadata": {
        "colab": {
          "base_uri": "https://localhost:8080/"
        },
        "id": "SmPVFO7iX0Lu",
        "outputId": "434b3e2b-9570-4efc-82c6-f2930e9d152c"
      },
      "execution_count": 51,
      "outputs": [
        {
          "output_type": "stream",
          "name": "stderr",
          "text": [
            "<ipython-input-51-6783f2b48473>:2: DataConversionWarning: A column-vector y was passed when a 1d array was expected. Please change the shape of y to (n_samples,), for example using ravel().\n",
            "  rf.fit(x_train, y_train)\n"
          ]
        },
        {
          "output_type": "stream",
          "name": "stdout",
          "text": [
            "0.9934640522875817\n"
          ]
        }
      ]
    },
    {
      "cell_type": "markdown",
      "source": [
        "Logistic Regression"
      ],
      "metadata": {
        "id": "MLVxDjiHYIl1"
      }
    },
    {
      "cell_type": "code",
      "source": [
        "logr = linear_model.LogisticRegression()\n",
        "logr.fit(x_train, y_train)\n",
        "pred18 = logr.predict(x_test)\n",
        "score18=accuracy_score(pred18,y_test)\n",
        "print(score18)"
      ],
      "metadata": {
        "colab": {
          "base_uri": "https://localhost:8080/"
        },
        "id": "YF9l1UiXYXPr",
        "outputId": "29809053-be12-4185-af32-1d7fba99bbe5"
      },
      "execution_count": 52,
      "outputs": [
        {
          "output_type": "stream",
          "name": "stdout",
          "text": [
            "0.8758169934640523\n"
          ]
        },
        {
          "output_type": "stream",
          "name": "stderr",
          "text": [
            "/usr/local/lib/python3.8/dist-packages/sklearn/utils/validation.py:993: DataConversionWarning: A column-vector y was passed when a 1d array was expected. Please change the shape of y to (n_samples, ), for example using ravel().\n",
            "  y = column_or_1d(y, warn=True)\n",
            "/usr/local/lib/python3.8/dist-packages/sklearn/linear_model/_logistic.py:814: ConvergenceWarning: lbfgs failed to converge (status=1):\n",
            "STOP: TOTAL NO. of ITERATIONS REACHED LIMIT.\n",
            "\n",
            "Increase the number of iterations (max_iter) or scale the data as shown in:\n",
            "    https://scikit-learn.org/stable/modules/preprocessing.html\n",
            "Please also refer to the documentation for alternative solver options:\n",
            "    https://scikit-learn.org/stable/modules/linear_model.html#logistic-regression\n",
            "  n_iter_i = _check_optimize_result(\n"
          ]
        }
      ]
    },
    {
      "cell_type": "markdown",
      "source": [
        "Decision Tree Classifier"
      ],
      "metadata": {
        "id": "eE62v4IfYdoV"
      }
    },
    {
      "cell_type": "code",
      "source": [
        "clf = DecisionTreeClassifier()\n",
        "clf = clf.fit(x_train,y_train)\n",
        "y_pred19 = clf.predict(x_test)\n",
        "score19=accuracy_score(y_pred19,y_test)\n",
        "print(score19)"
      ],
      "metadata": {
        "colab": {
          "base_uri": "https://localhost:8080/"
        },
        "id": "v0DW6KfwYg-L",
        "outputId": "907bfb8e-b5f7-41cc-ea66-7de7a767bce9"
      },
      "execution_count": 53,
      "outputs": [
        {
          "output_type": "stream",
          "name": "stdout",
          "text": [
            "0.9477124183006536\n"
          ]
        }
      ]
    },
    {
      "cell_type": "markdown",
      "source": [
        "KNN"
      ],
      "metadata": {
        "id": "t6dULhOsYpSu"
      }
    },
    {
      "cell_type": "code",
      "source": [
        "knn = KNeighborsClassifier(n_neighbors=7)\n",
        "knn.fit(x_train, y_train)\n",
        "pred20=knn.predict(x_test)\n",
        "score20=accuracy_score(pred20,y_test)\n",
        "print(score20)"
      ],
      "metadata": {
        "colab": {
          "base_uri": "https://localhost:8080/"
        },
        "id": "rBnkBws0YqSe",
        "outputId": "a0058ff0-a9e5-4570-fb81-ac410d94cdda"
      },
      "execution_count": 54,
      "outputs": [
        {
          "output_type": "stream",
          "name": "stdout",
          "text": [
            "0.8235294117647058\n"
          ]
        },
        {
          "output_type": "stream",
          "name": "stderr",
          "text": [
            "/usr/local/lib/python3.8/dist-packages/sklearn/neighbors/_classification.py:198: DataConversionWarning: A column-vector y was passed when a 1d array was expected. Please change the shape of y to (n_samples,), for example using ravel().\n",
            "  return self._fit(X, y)\n"
          ]
        }
      ]
    },
    {
      "cell_type": "code",
      "source": [
        "cluster_sampling=[score16,score17,score18,score19,score20]\n",
        "cluster_sampling"
      ],
      "metadata": {
        "colab": {
          "base_uri": "https://localhost:8080/"
        },
        "id": "5OeaxVttY1s2",
        "outputId": "4b552745-bf4a-49f4-d935-c8d2b6bd2c88"
      },
      "execution_count": 55,
      "outputs": [
        {
          "output_type": "execute_result",
          "data": {
            "text/plain": [
              "[0.803921568627451,\n",
              " 0.9934640522875817,\n",
              " 0.8758169934640523,\n",
              " 0.9477124183006536,\n",
              " 0.8235294117647058]"
            ]
          },
          "metadata": {},
          "execution_count": 55
        }
      ]
    },
    {
      "cell_type": "markdown",
      "source": [
        "### Multi stage sampling"
      ],
      "metadata": {
        "id": "7dcB-TIt2ZDT"
      }
    },
    {
      "cell_type": "code",
      "source": [
        "def get_clustered_Sample(df, n_per_cluster, num_select_clusters):\n",
        "    N = len(df)\n",
        "    K = int(N/n_per_cluster)\n",
        "    data = None\n",
        "    for k in range(K):\n",
        "        sample_k = df.sample(n_per_cluster)\n",
        "        sample_k[\"cluster\"] = np.repeat(k,len(sample_k))\n",
        "        df = df.drop(index = sample_k.index)\n",
        "        data = pd.concat([data,sample_k],axis = 0)\n",
        "    random_chosen_clusters = np.random.randint(0,K,size = num_select_clusters)\n",
        "    samples = data[data.cluster.isin(random_chosen_clusters)]\n",
        "    return(samples)\n",
        "cluster_data2 = get_clustered_Sample(df = x_res, n_per_cluster = 109, num_select_clusters = 7)\n",
        "cluster_data2=cluster_data2.sample(628, replace='True')"
      ],
      "metadata": {
        "id": "ik9t65OyzcZi"
      },
      "execution_count": 62,
      "outputs": []
    },
    {
      "cell_type": "code",
      "source": [
        "cluster_data2"
      ],
      "metadata": {
        "colab": {
          "base_uri": "https://localhost:8080/",
          "height": 488
        },
        "id": "hXpv9QSZ2C5i",
        "outputId": "c4a13241-d7cc-47df-f8d8-7d9fff8aedbf"
      },
      "execution_count": 63,
      "outputs": [
        {
          "output_type": "execute_result",
          "data": {
            "text/plain": [
              "      Time        V1        V2        V3        V4        V5        V6  \\\n",
              "1097   536 -1.703495  0.067695  1.211043 -0.620317  0.922604 -0.318161   \n",
              "731    550 -1.203351  1.774641  0.299300 -0.418265  0.484617  0.071523   \n",
              "1396   281  0.279639  0.371690  0.945214  0.465070  0.226229 -0.994641   \n",
              "25      22 -2.074295 -0.121482  1.322021  0.410008  0.295198 -0.959537   \n",
              "1428    26  1.206142  0.285212  0.197292  0.503649 -0.037735 -0.306166   \n",
              "...    ...       ...       ...       ...       ...       ...       ...   \n",
              "1130    53  1.220201  0.303970  0.227616  0.558264 -0.133937 -0.526423   \n",
              "1484   553 -0.512238  0.180437  0.826830 -0.105225  0.397386 -0.609268   \n",
              "1490   526 -2.007831 -2.391824  2.372124  1.206663  2.392456  0.547162   \n",
              "327    239  1.167527 -0.318288  0.502464  0.033904 -0.584285  0.024592   \n",
              "526    389  1.228478 -1.097948  1.629013 -0.005550 -1.969868  0.250276   \n",
              "\n",
              "            V7        V8        V9  ...       V22       V23       V24  \\\n",
              "1097  0.295488  0.127765  0.016296  ... -0.171541 -0.261710 -0.210512   \n",
              "731   0.046899 -1.492543  0.308865  ... -1.561118  0.054078 -1.119103   \n",
              "1396  0.440719 -0.182175 -0.044044  ... -0.334966 -0.044388  0.359959   \n",
              "25    0.543985 -0.104627  0.475664  ... -0.227404  0.742435  0.398535   \n",
              "1428 -0.041290  0.019870 -0.189595  ... -0.682624  0.107358 -0.185959   \n",
              "...        ...       ...       ...  ...       ...       ...       ...   \n",
              "1130 -0.004372 -0.044327 -0.124809  ... -0.725880  0.113332 -0.034511   \n",
              "1484  0.197535 -0.003000  0.019777  ... -0.449322 -0.102445  0.000157   \n",
              "1490 -2.120140  0.802409  0.871898  ...  1.166715  0.280052 -0.829665   \n",
              "327  -0.413738  0.186412  0.605945  ...  0.092396 -0.038321  0.115915   \n",
              "526  -1.381782  0.174507  0.641162  ... -0.566475  0.045969  0.475350   \n",
              "\n",
              "           V25       V26       V27       V28     Amount  Class  cluster  \n",
              "1097 -0.303604  0.210271 -0.334710 -0.372403   1.000000      1        6  \n",
              "731   0.145057  0.182843  0.528716  0.218048   2.670000      0       11  \n",
              "1396  0.294204 -0.150369 -0.059584 -0.039096   1.934978      1        3  \n",
              "25    0.249212  0.274404  0.359969  0.243232  26.430000      0        1  \n",
              "1428  0.178220  0.118828 -0.012239  0.018387   2.690000      1        1  \n",
              "...        ...       ...       ...       ...        ...    ...      ...  \n",
              "1130  0.189094  0.111874 -0.015443  0.021992   2.690000      1        9  \n",
              "1484 -0.107412  0.180595 -0.212954 -0.213911   1.118693      1        3  \n",
              "1490 -0.213172  0.845096 -0.115631 -0.170413   1.465039      1        9  \n",
              "327   0.319733  1.125327 -0.058855 -0.014192  10.000000      0        5  \n",
              "526   0.164650  1.069437  0.027740  0.026680  29.950000      0        1  \n",
              "\n",
              "[628 rows x 32 columns]"
            ],
            "text/html": [
              "\n",
              "  <div id=\"df-18cbc629-3d18-4efc-8a2e-40e4a1beea0d\">\n",
              "    <div class=\"colab-df-container\">\n",
              "      <div>\n",
              "<style scoped>\n",
              "    .dataframe tbody tr th:only-of-type {\n",
              "        vertical-align: middle;\n",
              "    }\n",
              "\n",
              "    .dataframe tbody tr th {\n",
              "        vertical-align: top;\n",
              "    }\n",
              "\n",
              "    .dataframe thead th {\n",
              "        text-align: right;\n",
              "    }\n",
              "</style>\n",
              "<table border=\"1\" class=\"dataframe\">\n",
              "  <thead>\n",
              "    <tr style=\"text-align: right;\">\n",
              "      <th></th>\n",
              "      <th>Time</th>\n",
              "      <th>V1</th>\n",
              "      <th>V2</th>\n",
              "      <th>V3</th>\n",
              "      <th>V4</th>\n",
              "      <th>V5</th>\n",
              "      <th>V6</th>\n",
              "      <th>V7</th>\n",
              "      <th>V8</th>\n",
              "      <th>V9</th>\n",
              "      <th>...</th>\n",
              "      <th>V22</th>\n",
              "      <th>V23</th>\n",
              "      <th>V24</th>\n",
              "      <th>V25</th>\n",
              "      <th>V26</th>\n",
              "      <th>V27</th>\n",
              "      <th>V28</th>\n",
              "      <th>Amount</th>\n",
              "      <th>Class</th>\n",
              "      <th>cluster</th>\n",
              "    </tr>\n",
              "  </thead>\n",
              "  <tbody>\n",
              "    <tr>\n",
              "      <th>1097</th>\n",
              "      <td>536</td>\n",
              "      <td>-1.703495</td>\n",
              "      <td>0.067695</td>\n",
              "      <td>1.211043</td>\n",
              "      <td>-0.620317</td>\n",
              "      <td>0.922604</td>\n",
              "      <td>-0.318161</td>\n",
              "      <td>0.295488</td>\n",
              "      <td>0.127765</td>\n",
              "      <td>0.016296</td>\n",
              "      <td>...</td>\n",
              "      <td>-0.171541</td>\n",
              "      <td>-0.261710</td>\n",
              "      <td>-0.210512</td>\n",
              "      <td>-0.303604</td>\n",
              "      <td>0.210271</td>\n",
              "      <td>-0.334710</td>\n",
              "      <td>-0.372403</td>\n",
              "      <td>1.000000</td>\n",
              "      <td>1</td>\n",
              "      <td>6</td>\n",
              "    </tr>\n",
              "    <tr>\n",
              "      <th>731</th>\n",
              "      <td>550</td>\n",
              "      <td>-1.203351</td>\n",
              "      <td>1.774641</td>\n",
              "      <td>0.299300</td>\n",
              "      <td>-0.418265</td>\n",
              "      <td>0.484617</td>\n",
              "      <td>0.071523</td>\n",
              "      <td>0.046899</td>\n",
              "      <td>-1.492543</td>\n",
              "      <td>0.308865</td>\n",
              "      <td>...</td>\n",
              "      <td>-1.561118</td>\n",
              "      <td>0.054078</td>\n",
              "      <td>-1.119103</td>\n",
              "      <td>0.145057</td>\n",
              "      <td>0.182843</td>\n",
              "      <td>0.528716</td>\n",
              "      <td>0.218048</td>\n",
              "      <td>2.670000</td>\n",
              "      <td>0</td>\n",
              "      <td>11</td>\n",
              "    </tr>\n",
              "    <tr>\n",
              "      <th>1396</th>\n",
              "      <td>281</td>\n",
              "      <td>0.279639</td>\n",
              "      <td>0.371690</td>\n",
              "      <td>0.945214</td>\n",
              "      <td>0.465070</td>\n",
              "      <td>0.226229</td>\n",
              "      <td>-0.994641</td>\n",
              "      <td>0.440719</td>\n",
              "      <td>-0.182175</td>\n",
              "      <td>-0.044044</td>\n",
              "      <td>...</td>\n",
              "      <td>-0.334966</td>\n",
              "      <td>-0.044388</td>\n",
              "      <td>0.359959</td>\n",
              "      <td>0.294204</td>\n",
              "      <td>-0.150369</td>\n",
              "      <td>-0.059584</td>\n",
              "      <td>-0.039096</td>\n",
              "      <td>1.934978</td>\n",
              "      <td>1</td>\n",
              "      <td>3</td>\n",
              "    </tr>\n",
              "    <tr>\n",
              "      <th>25</th>\n",
              "      <td>22</td>\n",
              "      <td>-2.074295</td>\n",
              "      <td>-0.121482</td>\n",
              "      <td>1.322021</td>\n",
              "      <td>0.410008</td>\n",
              "      <td>0.295198</td>\n",
              "      <td>-0.959537</td>\n",
              "      <td>0.543985</td>\n",
              "      <td>-0.104627</td>\n",
              "      <td>0.475664</td>\n",
              "      <td>...</td>\n",
              "      <td>-0.227404</td>\n",
              "      <td>0.742435</td>\n",
              "      <td>0.398535</td>\n",
              "      <td>0.249212</td>\n",
              "      <td>0.274404</td>\n",
              "      <td>0.359969</td>\n",
              "      <td>0.243232</td>\n",
              "      <td>26.430000</td>\n",
              "      <td>0</td>\n",
              "      <td>1</td>\n",
              "    </tr>\n",
              "    <tr>\n",
              "      <th>1428</th>\n",
              "      <td>26</td>\n",
              "      <td>1.206142</td>\n",
              "      <td>0.285212</td>\n",
              "      <td>0.197292</td>\n",
              "      <td>0.503649</td>\n",
              "      <td>-0.037735</td>\n",
              "      <td>-0.306166</td>\n",
              "      <td>-0.041290</td>\n",
              "      <td>0.019870</td>\n",
              "      <td>-0.189595</td>\n",
              "      <td>...</td>\n",
              "      <td>-0.682624</td>\n",
              "      <td>0.107358</td>\n",
              "      <td>-0.185959</td>\n",
              "      <td>0.178220</td>\n",
              "      <td>0.118828</td>\n",
              "      <td>-0.012239</td>\n",
              "      <td>0.018387</td>\n",
              "      <td>2.690000</td>\n",
              "      <td>1</td>\n",
              "      <td>1</td>\n",
              "    </tr>\n",
              "    <tr>\n",
              "      <th>...</th>\n",
              "      <td>...</td>\n",
              "      <td>...</td>\n",
              "      <td>...</td>\n",
              "      <td>...</td>\n",
              "      <td>...</td>\n",
              "      <td>...</td>\n",
              "      <td>...</td>\n",
              "      <td>...</td>\n",
              "      <td>...</td>\n",
              "      <td>...</td>\n",
              "      <td>...</td>\n",
              "      <td>...</td>\n",
              "      <td>...</td>\n",
              "      <td>...</td>\n",
              "      <td>...</td>\n",
              "      <td>...</td>\n",
              "      <td>...</td>\n",
              "      <td>...</td>\n",
              "      <td>...</td>\n",
              "      <td>...</td>\n",
              "      <td>...</td>\n",
              "    </tr>\n",
              "    <tr>\n",
              "      <th>1130</th>\n",
              "      <td>53</td>\n",
              "      <td>1.220201</td>\n",
              "      <td>0.303970</td>\n",
              "      <td>0.227616</td>\n",
              "      <td>0.558264</td>\n",
              "      <td>-0.133937</td>\n",
              "      <td>-0.526423</td>\n",
              "      <td>-0.004372</td>\n",
              "      <td>-0.044327</td>\n",
              "      <td>-0.124809</td>\n",
              "      <td>...</td>\n",
              "      <td>-0.725880</td>\n",
              "      <td>0.113332</td>\n",
              "      <td>-0.034511</td>\n",
              "      <td>0.189094</td>\n",
              "      <td>0.111874</td>\n",
              "      <td>-0.015443</td>\n",
              "      <td>0.021992</td>\n",
              "      <td>2.690000</td>\n",
              "      <td>1</td>\n",
              "      <td>9</td>\n",
              "    </tr>\n",
              "    <tr>\n",
              "      <th>1484</th>\n",
              "      <td>553</td>\n",
              "      <td>-0.512238</td>\n",
              "      <td>0.180437</td>\n",
              "      <td>0.826830</td>\n",
              "      <td>-0.105225</td>\n",
              "      <td>0.397386</td>\n",
              "      <td>-0.609268</td>\n",
              "      <td>0.197535</td>\n",
              "      <td>-0.003000</td>\n",
              "      <td>0.019777</td>\n",
              "      <td>...</td>\n",
              "      <td>-0.449322</td>\n",
              "      <td>-0.102445</td>\n",
              "      <td>0.000157</td>\n",
              "      <td>-0.107412</td>\n",
              "      <td>0.180595</td>\n",
              "      <td>-0.212954</td>\n",
              "      <td>-0.213911</td>\n",
              "      <td>1.118693</td>\n",
              "      <td>1</td>\n",
              "      <td>3</td>\n",
              "    </tr>\n",
              "    <tr>\n",
              "      <th>1490</th>\n",
              "      <td>526</td>\n",
              "      <td>-2.007831</td>\n",
              "      <td>-2.391824</td>\n",
              "      <td>2.372124</td>\n",
              "      <td>1.206663</td>\n",
              "      <td>2.392456</td>\n",
              "      <td>0.547162</td>\n",
              "      <td>-2.120140</td>\n",
              "      <td>0.802409</td>\n",
              "      <td>0.871898</td>\n",
              "      <td>...</td>\n",
              "      <td>1.166715</td>\n",
              "      <td>0.280052</td>\n",
              "      <td>-0.829665</td>\n",
              "      <td>-0.213172</td>\n",
              "      <td>0.845096</td>\n",
              "      <td>-0.115631</td>\n",
              "      <td>-0.170413</td>\n",
              "      <td>1.465039</td>\n",
              "      <td>1</td>\n",
              "      <td>9</td>\n",
              "    </tr>\n",
              "    <tr>\n",
              "      <th>327</th>\n",
              "      <td>239</td>\n",
              "      <td>1.167527</td>\n",
              "      <td>-0.318288</td>\n",
              "      <td>0.502464</td>\n",
              "      <td>0.033904</td>\n",
              "      <td>-0.584285</td>\n",
              "      <td>0.024592</td>\n",
              "      <td>-0.413738</td>\n",
              "      <td>0.186412</td>\n",
              "      <td>0.605945</td>\n",
              "      <td>...</td>\n",
              "      <td>0.092396</td>\n",
              "      <td>-0.038321</td>\n",
              "      <td>0.115915</td>\n",
              "      <td>0.319733</td>\n",
              "      <td>1.125327</td>\n",
              "      <td>-0.058855</td>\n",
              "      <td>-0.014192</td>\n",
              "      <td>10.000000</td>\n",
              "      <td>0</td>\n",
              "      <td>5</td>\n",
              "    </tr>\n",
              "    <tr>\n",
              "      <th>526</th>\n",
              "      <td>389</td>\n",
              "      <td>1.228478</td>\n",
              "      <td>-1.097948</td>\n",
              "      <td>1.629013</td>\n",
              "      <td>-0.005550</td>\n",
              "      <td>-1.969868</td>\n",
              "      <td>0.250276</td>\n",
              "      <td>-1.381782</td>\n",
              "      <td>0.174507</td>\n",
              "      <td>0.641162</td>\n",
              "      <td>...</td>\n",
              "      <td>-0.566475</td>\n",
              "      <td>0.045969</td>\n",
              "      <td>0.475350</td>\n",
              "      <td>0.164650</td>\n",
              "      <td>1.069437</td>\n",
              "      <td>0.027740</td>\n",
              "      <td>0.026680</td>\n",
              "      <td>29.950000</td>\n",
              "      <td>0</td>\n",
              "      <td>1</td>\n",
              "    </tr>\n",
              "  </tbody>\n",
              "</table>\n",
              "<p>628 rows × 32 columns</p>\n",
              "</div>\n",
              "      <button class=\"colab-df-convert\" onclick=\"convertToInteractive('df-18cbc629-3d18-4efc-8a2e-40e4a1beea0d')\"\n",
              "              title=\"Convert this dataframe to an interactive table.\"\n",
              "              style=\"display:none;\">\n",
              "        \n",
              "  <svg xmlns=\"http://www.w3.org/2000/svg\" height=\"24px\"viewBox=\"0 0 24 24\"\n",
              "       width=\"24px\">\n",
              "    <path d=\"M0 0h24v24H0V0z\" fill=\"none\"/>\n",
              "    <path d=\"M18.56 5.44l.94 2.06.94-2.06 2.06-.94-2.06-.94-.94-2.06-.94 2.06-2.06.94zm-11 1L8.5 8.5l.94-2.06 2.06-.94-2.06-.94L8.5 2.5l-.94 2.06-2.06.94zm10 10l.94 2.06.94-2.06 2.06-.94-2.06-.94-.94-2.06-.94 2.06-2.06.94z\"/><path d=\"M17.41 7.96l-1.37-1.37c-.4-.4-.92-.59-1.43-.59-.52 0-1.04.2-1.43.59L10.3 9.45l-7.72 7.72c-.78.78-.78 2.05 0 2.83L4 21.41c.39.39.9.59 1.41.59.51 0 1.02-.2 1.41-.59l7.78-7.78 2.81-2.81c.8-.78.8-2.07 0-2.86zM5.41 20L4 18.59l7.72-7.72 1.47 1.35L5.41 20z\"/>\n",
              "  </svg>\n",
              "      </button>\n",
              "      \n",
              "  <style>\n",
              "    .colab-df-container {\n",
              "      display:flex;\n",
              "      flex-wrap:wrap;\n",
              "      gap: 12px;\n",
              "    }\n",
              "\n",
              "    .colab-df-convert {\n",
              "      background-color: #E8F0FE;\n",
              "      border: none;\n",
              "      border-radius: 50%;\n",
              "      cursor: pointer;\n",
              "      display: none;\n",
              "      fill: #1967D2;\n",
              "      height: 32px;\n",
              "      padding: 0 0 0 0;\n",
              "      width: 32px;\n",
              "    }\n",
              "\n",
              "    .colab-df-convert:hover {\n",
              "      background-color: #E2EBFA;\n",
              "      box-shadow: 0px 1px 2px rgba(60, 64, 67, 0.3), 0px 1px 3px 1px rgba(60, 64, 67, 0.15);\n",
              "      fill: #174EA6;\n",
              "    }\n",
              "\n",
              "    [theme=dark] .colab-df-convert {\n",
              "      background-color: #3B4455;\n",
              "      fill: #D2E3FC;\n",
              "    }\n",
              "\n",
              "    [theme=dark] .colab-df-convert:hover {\n",
              "      background-color: #434B5C;\n",
              "      box-shadow: 0px 1px 3px 1px rgba(0, 0, 0, 0.15);\n",
              "      filter: drop-shadow(0px 1px 2px rgba(0, 0, 0, 0.3));\n",
              "      fill: #FFFFFF;\n",
              "    }\n",
              "  </style>\n",
              "\n",
              "      <script>\n",
              "        const buttonEl =\n",
              "          document.querySelector('#df-18cbc629-3d18-4efc-8a2e-40e4a1beea0d button.colab-df-convert');\n",
              "        buttonEl.style.display =\n",
              "          google.colab.kernel.accessAllowed ? 'block' : 'none';\n",
              "\n",
              "        async function convertToInteractive(key) {\n",
              "          const element = document.querySelector('#df-18cbc629-3d18-4efc-8a2e-40e4a1beea0d');\n",
              "          const dataTable =\n",
              "            await google.colab.kernel.invokeFunction('convertToInteractive',\n",
              "                                                     [key], {});\n",
              "          if (!dataTable) return;\n",
              "\n",
              "          const docLinkHtml = 'Like what you see? Visit the ' +\n",
              "            '<a target=\"_blank\" href=https://colab.research.google.com/notebooks/data_table.ipynb>data table notebook</a>'\n",
              "            + ' to learn more about interactive tables.';\n",
              "          element.innerHTML = '';\n",
              "          dataTable['output_type'] = 'display_data';\n",
              "          await google.colab.output.renderOutput(dataTable, element);\n",
              "          const docLink = document.createElement('div');\n",
              "          docLink.innerHTML = docLinkHtml;\n",
              "          element.appendChild(docLink);\n",
              "        }\n",
              "      </script>\n",
              "    </div>\n",
              "  </div>\n",
              "  "
            ]
          },
          "metadata": {},
          "execution_count": 63
        }
      ]
    },
    {
      "cell_type": "code",
      "source": [
        "x = cluster_data2.iloc[:,cluster_data2.columns!='Class']\n",
        "y = cluster_data2.iloc[:,cluster_data2.columns=='Class']"
      ],
      "metadata": {
        "id": "kLuKGuIc2LOm"
      },
      "execution_count": 64,
      "outputs": []
    },
    {
      "cell_type": "code",
      "source": [
        "from sklearn.model_selection import train_test_split\n",
        "x_train, x_test, y_train, y_test = train_test_split(x, y, test_size = 0.20, random_state = 0)"
      ],
      "metadata": {
        "id": "F5dEWf282SK7"
      },
      "execution_count": 65,
      "outputs": []
    },
    {
      "cell_type": "markdown",
      "source": [
        "Naive Bayes"
      ],
      "metadata": {
        "id": "uup_46zb2WL6"
      }
    },
    {
      "cell_type": "code",
      "source": [
        "classifier = GaussianNB()\n",
        "classifier.fit(x_train, y_train)\n",
        "y_pred21  =  classifier.predict(x_test)\n",
        "score21=accuracy_score(y_pred21,y_test)\n",
        "print(score21)"
      ],
      "metadata": {
        "colab": {
          "base_uri": "https://localhost:8080/"
        },
        "id": "URRuaf502Xj0",
        "outputId": "b553362b-d935-44c8-ecc2-2eee09d7076f"
      },
      "execution_count": 66,
      "outputs": [
        {
          "output_type": "stream",
          "name": "stdout",
          "text": [
            "0.8809523809523809\n"
          ]
        },
        {
          "output_type": "stream",
          "name": "stderr",
          "text": [
            "/usr/local/lib/python3.8/dist-packages/sklearn/utils/validation.py:993: DataConversionWarning: A column-vector y was passed when a 1d array was expected. Please change the shape of y to (n_samples, ), for example using ravel().\n",
            "  y = column_or_1d(y, warn=True)\n"
          ]
        }
      ]
    },
    {
      "cell_type": "markdown",
      "source": [
        "Random Forest"
      ],
      "metadata": {
        "id": "eEtSGJpm2pEv"
      }
    },
    {
      "cell_type": "code",
      "source": [
        "rf = RandomForestClassifier()\n",
        "rf.fit(x_train, y_train)\n",
        "y_pred22  =  rf.predict(x_test)\n",
        "score22=accuracy_score(y_pred22,y_test)\n",
        "print(score22)"
      ],
      "metadata": {
        "colab": {
          "base_uri": "https://localhost:8080/"
        },
        "id": "1bMwROrt2szL",
        "outputId": "61c00c9a-fab1-4ef9-f224-e9a5c0e905ea"
      },
      "execution_count": 67,
      "outputs": [
        {
          "output_type": "stream",
          "name": "stderr",
          "text": [
            "<ipython-input-67-27b88b68a4f7>:2: DataConversionWarning: A column-vector y was passed when a 1d array was expected. Please change the shape of y to (n_samples,), for example using ravel().\n",
            "  rf.fit(x_train, y_train)\n"
          ]
        },
        {
          "output_type": "stream",
          "name": "stdout",
          "text": [
            "0.9920634920634921\n"
          ]
        }
      ]
    },
    {
      "cell_type": "markdown",
      "source": [
        "Logistic Regression"
      ],
      "metadata": {
        "id": "kIMa_WJn2wsx"
      }
    },
    {
      "cell_type": "code",
      "source": [
        "logr = linear_model.LogisticRegression()\n",
        "logr.fit(x_train, y_train)\n",
        "pred23 = logr.predict(x_test)\n",
        "score23=accuracy_score(pred23,y_test)\n",
        "print(score23)"
      ],
      "metadata": {
        "colab": {
          "base_uri": "https://localhost:8080/"
        },
        "id": "28ftjOqI2yfB",
        "outputId": "5e645582-4a22-40ae-cdd4-6176cebbe2cd"
      },
      "execution_count": 68,
      "outputs": [
        {
          "output_type": "stream",
          "name": "stdout",
          "text": [
            "0.9523809523809523\n"
          ]
        },
        {
          "output_type": "stream",
          "name": "stderr",
          "text": [
            "/usr/local/lib/python3.8/dist-packages/sklearn/utils/validation.py:993: DataConversionWarning: A column-vector y was passed when a 1d array was expected. Please change the shape of y to (n_samples, ), for example using ravel().\n",
            "  y = column_or_1d(y, warn=True)\n",
            "/usr/local/lib/python3.8/dist-packages/sklearn/linear_model/_logistic.py:814: ConvergenceWarning: lbfgs failed to converge (status=1):\n",
            "STOP: TOTAL NO. of ITERATIONS REACHED LIMIT.\n",
            "\n",
            "Increase the number of iterations (max_iter) or scale the data as shown in:\n",
            "    https://scikit-learn.org/stable/modules/preprocessing.html\n",
            "Please also refer to the documentation for alternative solver options:\n",
            "    https://scikit-learn.org/stable/modules/linear_model.html#logistic-regression\n",
            "  n_iter_i = _check_optimize_result(\n"
          ]
        }
      ]
    },
    {
      "cell_type": "markdown",
      "source": [
        "Decision Tree classifier"
      ],
      "metadata": {
        "id": "SFEPJWLx25LL"
      }
    },
    {
      "cell_type": "code",
      "source": [
        "clf = DecisionTreeClassifier()\n",
        "clf = clf.fit(x_train,y_train)\n",
        "y_pred24 = clf.predict(x_test)\n",
        "score24=accuracy_score(y_pred24,y_test)\n",
        "print(score24)"
      ],
      "metadata": {
        "colab": {
          "base_uri": "https://localhost:8080/"
        },
        "id": "u96ZIe0V27i4",
        "outputId": "af1811d3-2d36-4f9e-94fc-5ac0e91aac95"
      },
      "execution_count": 69,
      "outputs": [
        {
          "output_type": "stream",
          "name": "stdout",
          "text": [
            "0.9841269841269841\n"
          ]
        }
      ]
    },
    {
      "cell_type": "markdown",
      "source": [
        "KNN"
      ],
      "metadata": {
        "id": "1w8bAFjp3Dtr"
      }
    },
    {
      "cell_type": "code",
      "source": [
        "knn = KNeighborsClassifier(n_neighbors=7)\n",
        "knn.fit(x_train, y_train)\n",
        "pred25=knn.predict(x_test)\n",
        "score25=accuracy_score(pred25,y_test)\n",
        "print(score25)"
      ],
      "metadata": {
        "colab": {
          "base_uri": "https://localhost:8080/"
        },
        "id": "5G_vgBQ93EXT",
        "outputId": "8304e871-e289-4292-da31-d3716a70f7ff"
      },
      "execution_count": 70,
      "outputs": [
        {
          "output_type": "stream",
          "name": "stdout",
          "text": [
            "0.7619047619047619\n"
          ]
        },
        {
          "output_type": "stream",
          "name": "stderr",
          "text": [
            "/usr/local/lib/python3.8/dist-packages/sklearn/neighbors/_classification.py:198: DataConversionWarning: A column-vector y was passed when a 1d array was expected. Please change the shape of y to (n_samples,), for example using ravel().\n",
            "  return self._fit(X, y)\n"
          ]
        }
      ]
    },
    {
      "cell_type": "code",
      "source": [
        "multi_sampling=[score21,score22,score23,score24,score25]\n",
        "multi_sampling"
      ],
      "metadata": {
        "colab": {
          "base_uri": "https://localhost:8080/"
        },
        "id": "a8zTSJ5b3P7o",
        "outputId": "11e8738a-1ea6-4756-e336-3b078d3be74a"
      },
      "execution_count": 71,
      "outputs": [
        {
          "output_type": "execute_result",
          "data": {
            "text/plain": [
              "[0.8809523809523809,\n",
              " 0.9920634920634921,\n",
              " 0.9523809523809523,\n",
              " 0.9841269841269841,\n",
              " 0.7619047619047619]"
            ]
          },
          "metadata": {},
          "execution_count": 71
        }
      ]
    },
    {
      "cell_type": "markdown",
      "source": [
        "Comibining all the calculated accuracies of different sampling techniques in a single table"
      ],
      "metadata": {
        "id": "Z-jPe1kwwBJu"
      }
    },
    {
      "cell_type": "code",
      "source": [
        "df2=pd.DataFrame"
      ],
      "metadata": {
        "id": "mRBN0sKgZAtC"
      },
      "execution_count": 56,
      "outputs": []
    },
    {
      "cell_type": "code",
      "source": [
        "model=['Naive Bayes','Random Forest','Logistic Regression','Decision Tree classifier','KNN']\n",
        "finaltable= {\n",
        "    'Models': model,\n",
        "    'Simple random':simple_sampling,\n",
        "    'Stratified' :stratified_sampling,\n",
        "    'Systematic': systematic_sampling,\n",
        "    'Cluster':cluster_sampling,\n",
        "    'Multi stage': multi_sampling\n",
        "          }\n",
        "df2 = pd.DataFrame(finaltable)"
      ],
      "metadata": {
        "id": "aVgxn_1x7yy9"
      },
      "execution_count": 72,
      "outputs": []
    },
    {
      "cell_type": "code",
      "source": [
        "df2"
      ],
      "metadata": {
        "colab": {
          "base_uri": "https://localhost:8080/",
          "height": 206
        },
        "id": "WFta-SHv8aZ0",
        "outputId": "0f294751-da5a-4969-fe04-c9c1c566d223"
      },
      "execution_count": 73,
      "outputs": [
        {
          "output_type": "execute_result",
          "data": {
            "text/plain": [
              "                     Models  Simple random  Stratified  Systematic   Cluster  \\\n",
              "0               Naive Bayes       0.845794    0.898089    0.784314  0.803922   \n",
              "1             Random Forest       0.995327    0.993631    0.993464  0.993464   \n",
              "2       Logistic Regression       0.943925    0.949045    0.882353  0.875817   \n",
              "3  Decision Tree classifier       0.967290    0.987261    0.960784  0.947712   \n",
              "4                       KNN       0.845794    0.777070    0.830065  0.823529   \n",
              "\n",
              "   Multi stage  \n",
              "0     0.880952  \n",
              "1     0.992063  \n",
              "2     0.952381  \n",
              "3     0.984127  \n",
              "4     0.761905  "
            ],
            "text/html": [
              "\n",
              "  <div id=\"df-981f84d9-a9d7-48a8-bd31-b2cc6e2f31e4\">\n",
              "    <div class=\"colab-df-container\">\n",
              "      <div>\n",
              "<style scoped>\n",
              "    .dataframe tbody tr th:only-of-type {\n",
              "        vertical-align: middle;\n",
              "    }\n",
              "\n",
              "    .dataframe tbody tr th {\n",
              "        vertical-align: top;\n",
              "    }\n",
              "\n",
              "    .dataframe thead th {\n",
              "        text-align: right;\n",
              "    }\n",
              "</style>\n",
              "<table border=\"1\" class=\"dataframe\">\n",
              "  <thead>\n",
              "    <tr style=\"text-align: right;\">\n",
              "      <th></th>\n",
              "      <th>Models</th>\n",
              "      <th>Simple random</th>\n",
              "      <th>Stratified</th>\n",
              "      <th>Systematic</th>\n",
              "      <th>Cluster</th>\n",
              "      <th>Multi stage</th>\n",
              "    </tr>\n",
              "  </thead>\n",
              "  <tbody>\n",
              "    <tr>\n",
              "      <th>0</th>\n",
              "      <td>Naive Bayes</td>\n",
              "      <td>0.845794</td>\n",
              "      <td>0.898089</td>\n",
              "      <td>0.784314</td>\n",
              "      <td>0.803922</td>\n",
              "      <td>0.880952</td>\n",
              "    </tr>\n",
              "    <tr>\n",
              "      <th>1</th>\n",
              "      <td>Random Forest</td>\n",
              "      <td>0.995327</td>\n",
              "      <td>0.993631</td>\n",
              "      <td>0.993464</td>\n",
              "      <td>0.993464</td>\n",
              "      <td>0.992063</td>\n",
              "    </tr>\n",
              "    <tr>\n",
              "      <th>2</th>\n",
              "      <td>Logistic Regression</td>\n",
              "      <td>0.943925</td>\n",
              "      <td>0.949045</td>\n",
              "      <td>0.882353</td>\n",
              "      <td>0.875817</td>\n",
              "      <td>0.952381</td>\n",
              "    </tr>\n",
              "    <tr>\n",
              "      <th>3</th>\n",
              "      <td>Decision Tree classifier</td>\n",
              "      <td>0.967290</td>\n",
              "      <td>0.987261</td>\n",
              "      <td>0.960784</td>\n",
              "      <td>0.947712</td>\n",
              "      <td>0.984127</td>\n",
              "    </tr>\n",
              "    <tr>\n",
              "      <th>4</th>\n",
              "      <td>KNN</td>\n",
              "      <td>0.845794</td>\n",
              "      <td>0.777070</td>\n",
              "      <td>0.830065</td>\n",
              "      <td>0.823529</td>\n",
              "      <td>0.761905</td>\n",
              "    </tr>\n",
              "  </tbody>\n",
              "</table>\n",
              "</div>\n",
              "      <button class=\"colab-df-convert\" onclick=\"convertToInteractive('df-981f84d9-a9d7-48a8-bd31-b2cc6e2f31e4')\"\n",
              "              title=\"Convert this dataframe to an interactive table.\"\n",
              "              style=\"display:none;\">\n",
              "        \n",
              "  <svg xmlns=\"http://www.w3.org/2000/svg\" height=\"24px\"viewBox=\"0 0 24 24\"\n",
              "       width=\"24px\">\n",
              "    <path d=\"M0 0h24v24H0V0z\" fill=\"none\"/>\n",
              "    <path d=\"M18.56 5.44l.94 2.06.94-2.06 2.06-.94-2.06-.94-.94-2.06-.94 2.06-2.06.94zm-11 1L8.5 8.5l.94-2.06 2.06-.94-2.06-.94L8.5 2.5l-.94 2.06-2.06.94zm10 10l.94 2.06.94-2.06 2.06-.94-2.06-.94-.94-2.06-.94 2.06-2.06.94z\"/><path d=\"M17.41 7.96l-1.37-1.37c-.4-.4-.92-.59-1.43-.59-.52 0-1.04.2-1.43.59L10.3 9.45l-7.72 7.72c-.78.78-.78 2.05 0 2.83L4 21.41c.39.39.9.59 1.41.59.51 0 1.02-.2 1.41-.59l7.78-7.78 2.81-2.81c.8-.78.8-2.07 0-2.86zM5.41 20L4 18.59l7.72-7.72 1.47 1.35L5.41 20z\"/>\n",
              "  </svg>\n",
              "      </button>\n",
              "      \n",
              "  <style>\n",
              "    .colab-df-container {\n",
              "      display:flex;\n",
              "      flex-wrap:wrap;\n",
              "      gap: 12px;\n",
              "    }\n",
              "\n",
              "    .colab-df-convert {\n",
              "      background-color: #E8F0FE;\n",
              "      border: none;\n",
              "      border-radius: 50%;\n",
              "      cursor: pointer;\n",
              "      display: none;\n",
              "      fill: #1967D2;\n",
              "      height: 32px;\n",
              "      padding: 0 0 0 0;\n",
              "      width: 32px;\n",
              "    }\n",
              "\n",
              "    .colab-df-convert:hover {\n",
              "      background-color: #E2EBFA;\n",
              "      box-shadow: 0px 1px 2px rgba(60, 64, 67, 0.3), 0px 1px 3px 1px rgba(60, 64, 67, 0.15);\n",
              "      fill: #174EA6;\n",
              "    }\n",
              "\n",
              "    [theme=dark] .colab-df-convert {\n",
              "      background-color: #3B4455;\n",
              "      fill: #D2E3FC;\n",
              "    }\n",
              "\n",
              "    [theme=dark] .colab-df-convert:hover {\n",
              "      background-color: #434B5C;\n",
              "      box-shadow: 0px 1px 3px 1px rgba(0, 0, 0, 0.15);\n",
              "      filter: drop-shadow(0px 1px 2px rgba(0, 0, 0, 0.3));\n",
              "      fill: #FFFFFF;\n",
              "    }\n",
              "  </style>\n",
              "\n",
              "      <script>\n",
              "        const buttonEl =\n",
              "          document.querySelector('#df-981f84d9-a9d7-48a8-bd31-b2cc6e2f31e4 button.colab-df-convert');\n",
              "        buttonEl.style.display =\n",
              "          google.colab.kernel.accessAllowed ? 'block' : 'none';\n",
              "\n",
              "        async function convertToInteractive(key) {\n",
              "          const element = document.querySelector('#df-981f84d9-a9d7-48a8-bd31-b2cc6e2f31e4');\n",
              "          const dataTable =\n",
              "            await google.colab.kernel.invokeFunction('convertToInteractive',\n",
              "                                                     [key], {});\n",
              "          if (!dataTable) return;\n",
              "\n",
              "          const docLinkHtml = 'Like what you see? Visit the ' +\n",
              "            '<a target=\"_blank\" href=https://colab.research.google.com/notebooks/data_table.ipynb>data table notebook</a>'\n",
              "            + ' to learn more about interactive tables.';\n",
              "          element.innerHTML = '';\n",
              "          dataTable['output_type'] = 'display_data';\n",
              "          await google.colab.output.renderOutput(dataTable, element);\n",
              "          const docLink = document.createElement('div');\n",
              "          docLink.innerHTML = docLinkHtml;\n",
              "          element.appendChild(docLink);\n",
              "        }\n",
              "      </script>\n",
              "    </div>\n",
              "  </div>\n",
              "  "
            ]
          },
          "metadata": {},
          "execution_count": 73
        }
      ]
    },
    {
      "cell_type": "markdown",
      "source": [
        "From the above table we can conclude that Random forest shows maximum accuracy with all the above sampling techniques."
      ],
      "metadata": {
        "id": "d8_BwPwyJjCc"
      }
    }
  ]
}